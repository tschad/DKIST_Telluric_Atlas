{
 "cells": [
  {
   "cell_type": "markdown",
   "id": "1fa9adf2-f374-4c22-95cd-88f90cbddf69",
   "metadata": {
    "tags": []
   },
   "source": [
    "# Generate telluric absorption spectra near 1430 nm for standard terrestrial atmospheric profiles \n",
    "\n",
    "Tom Schad | 6 March 2024\n",
    "\n",
    "This notebook uses Py4CAfS to generate telluric absorption spectra near the Si X 1430 nm coronal line. \n",
    "\n",
    "The terrestrial atmospheric profile is selected from the standard available in the package. \n",
    "\n",
    "The altitude of DKIST is 3067 meters. \n"
   ]
  },
  {
   "cell_type": "code",
   "execution_count": 8,
   "id": "f9bf6c67-cdfa-4819-9031-4946745a763a",
   "metadata": {
    "tags": []
   },
   "outputs": [
    {
     "name": "stdout",
     "output_type": "stream",
     "text": [
      "/home/tschad/dkist_telluric_atlas/py4cats/__init__.py\n"
     ]
    }
   ],
   "source": [
    "import numpy as np \n",
    "import matplotlib.pyplot as plt\n",
    "import os \n",
    "import glob\n",
    "import sys\n",
    "from py4cats import *\n",
    "import py4cats \n",
    "print(py4cats.__file__)\n",
    "\n",
    "import matplotlib.pyplot as plt\n",
    "%matplotlib widget \n",
    "plt.rcParams.update({'figure.max_open_warning': 0})\n",
    "plt.rcParams[\"image.origin\"] = 'lower'\n",
    "plt.rcParams[\"image.cmap\"] = 'gray'\n",
    "plt.rcParams[\"image.interpolation\"] = 'nearest'\n",
    "plt.rcParams['font.sans-serif'] = \"Comic Sans MS\"\n",
    "plt.rcParams['font.family'] = \"serif\"\n",
    "plt.rcParams['xtick.labelsize'] = 12\n",
    "plt.rcParams['ytick.labelsize'] = 12\n",
    "from scipy import ndimage"
   ]
  },
  {
   "cell_type": "code",
   "execution_count": 9,
   "id": "adf56cfa-3fef-46ea-a0a9-40693cb7e1ee",
   "metadata": {
    "tags": []
   },
   "outputs": [],
   "source": [
    "def vac2air(wave_vac):\n",
    "    \"\"\" Converts wavelengths from vacuum to air-equivalent \"\"\"\n",
    "    wave_air = np.copy(wave_vac)\n",
    "    ww  = (wave_vac >= 2000) \n",
    "    sigma2 = (1e4 / wave_vac[ww])**2 \n",
    "    n = 1 + 0.0000834254 + 0.02406147 / (130 - sigma2) + 0.00015998 / (38.9 - sigma2)\n",
    "    wave_air[ww] = wave_vac[ww] / n\n",
    "    return wave_air"
   ]
  },
  {
   "cell_type": "code",
   "execution_count": 10,
   "id": "e8883441-a381-4196-b692-46d96b944f6f",
   "metadata": {
    "tags": []
   },
   "outputs": [],
   "source": [
    "def air2vac(wave_air): \n",
    "    \"\"\" Converts wavelengths from air-equivalent to vacuum\n",
    "    Ciddor (1996) formula\n",
    "    Adapted from airtovac.pro\n",
    "    \n",
    "    wave_air  :: angstroms \n",
    "    \"\"\"\n",
    "    wave_vac = np.copy(wave_air)\n",
    "    ww  = (wave_air >= 2000) \n",
    "    sigma2 = (1e4 / wave_air[ww])**2 \n",
    "    n = 1. + 8.336624212083e-5 + 0.02408926869968 / (130.1065924522 - sigma2) + \\\n",
    "        0.0001599740894897 / (38.92568793293 - sigma2)\n",
    "    wave_vac[ww] = wave_air[ww] * n\n",
    "    return wave_vac\n",
    "    "
   ]
  },
  {
   "cell_type": "markdown",
   "id": "2bb014c9-42b3-4cdf-a808-e87960efb0a4",
   "metadata": {},
   "source": [
    "## Load atmospheres "
   ]
  },
  {
   "cell_type": "raw",
   "id": "7198a438-ef34-4b9b-90e3-4a874b5db705",
   "metadata": {},
   "source": [
    "## available atmospheric models \n",
    "lrwxrwxrwx 1 tschad dkist   18 Feb 10  2019 uss.xy -> USstandard_main.xy\n",
    "lrwxrwxrwx 1 tschad dkist   18 Feb 10  2019 saw.xy -> subarcticWinter.xy\n",
    "lrwxrwxrwx 1 tschad dkist   18 Feb 10  2019 sas.xy -> subarcticSummer.xy\n",
    "lrwxrwxrwx 1 tschad dkist   20 Feb 10  2019 mlw.xy -> midlatitudeWinter.xy\n",
    "lrwxrwxrwx 1 tschad dkist   20 Feb 10  2019 mls.xy -> midlatitudeSummer.xy\n",
    "lrwxrwxrwx 1 tschad dkist   11 Feb 10  2019 tro.xy -> tropical.xy"
   ]
  },
  {
   "cell_type": "code",
   "execution_count": 11,
   "id": "27463f8e-a50d-4e17-92f5-10ed833febca",
   "metadata": {
    "tags": []
   },
   "outputs": [],
   "source": [
    "atmos = 'USstandard_main','subarcticWinter','subarcticSummer','midlatitudeWinter','midlatitudeSummer','tropical',"
   ]
  },
  {
   "cell_type": "code",
   "execution_count": 12,
   "id": "ef785aa1-c4e2-4a3a-a9da-0c4debb224fa",
   "metadata": {
    "tags": []
   },
   "outputs": [
    {
     "ename": "AttributeError",
     "evalue": "module 'numpy' has no attribute 'float'.\n`np.float` was a deprecated alias for the builtin `float`. To avoid this error in existing code, use `float` by itself. Doing this will not modify any behavior and is safe. If you specifically wanted the numpy scalar type, use `np.float64` here.\nThe aliases was originally deprecated in NumPy 1.20; for more details and guidance see the original release note at:\n    https://numpy.org/devdocs/release/1.20.0-notes.html#deprecations",
     "output_type": "error",
     "traceback": [
      "\u001b[0;31m---------------------------------------------------------------------------\u001b[0m",
      "\u001b[0;31mAttributeError\u001b[0m                            Traceback (most recent call last)",
      "Cell \u001b[0;32mIn[12], line 7\u001b[0m\n\u001b[1;32m      2\u001b[0m ax \u001b[38;5;241m=\u001b[39m ax\u001b[38;5;241m.\u001b[39mflatten()\n\u001b[1;32m      5\u001b[0m \u001b[38;5;28;01mfor\u001b[39;00m n \u001b[38;5;129;01min\u001b[39;00m \u001b[38;5;28mrange\u001b[39m(\u001b[38;5;28mlen\u001b[39m(atmos)): \n\u001b[0;32m----> 7\u001b[0m     atmDat \u001b[38;5;241m=\u001b[39m \u001b[43matmRead\u001b[49m\u001b[43m(\u001b[49m\u001b[38;5;124;43m'\u001b[39;49m\u001b[38;5;124;43m./py4cats/data/atmos/50/\u001b[39;49m\u001b[38;5;124;43m'\u001b[39;49m\u001b[43m \u001b[49m\u001b[38;5;241;43m+\u001b[39;49m\u001b[43m \u001b[49m\u001b[43matmos\u001b[49m\u001b[43m[\u001b[49m\u001b[43mn\u001b[49m\u001b[43m]\u001b[49m\u001b[43m \u001b[49m\u001b[38;5;241;43m+\u001b[39;49m\u001b[43m \u001b[49m\u001b[38;5;124;43m'\u001b[39;49m\u001b[38;5;124;43m.xy\u001b[39;49m\u001b[38;5;124;43m'\u001b[39;49m\u001b[43m)\u001b[49m\n\u001b[1;32m      9\u001b[0m     \u001b[38;5;66;03m## plot z vs T\u001b[39;00m\n\u001b[1;32m     10\u001b[0m     plt\u001b[38;5;241m.\u001b[39msca(ax[\u001b[38;5;241m0\u001b[39m])\n",
      "File \u001b[0;32m~/dkist_telluric_atlas/py4cats/art/atmos1D.py:788\u001b[0m, in \u001b[0;36matmRead\u001b[0;34m(atmFile, commentChar, extract, zToA, zBoA, what, units, scaleFactors, returnUnits, verbose)\u001b[0m\n\u001b[1;32m    786\u001b[0m \u001b[38;5;66;03m# read atmospheric data file assuming columns are specified in \"what:\" row of header section\u001b[39;00m\n\u001b[1;32m    787\u001b[0m \u001b[38;5;28;01mif\u001b[39;00m \u001b[38;5;129;01mnot\u001b[39;00m what\u001b[38;5;241m.\u001b[39mendswith(\u001b[38;5;124m'\u001b[39m\u001b[38;5;124m:\u001b[39m\u001b[38;5;124m'\u001b[39m):  what\u001b[38;5;241m+\u001b[39m\u001b[38;5;241m=\u001b[39m\u001b[38;5;124m'\u001b[39m\u001b[38;5;124m:\u001b[39m\u001b[38;5;124m'\u001b[39m\n\u001b[0;32m--> 788\u001b[0m data  \u001b[38;5;241m=\u001b[39m \u001b[43mloadStrucArray\u001b[49m\u001b[43m \u001b[49m\u001b[43m(\u001b[49m\u001b[43matmFile\u001b[49m\u001b[43m,\u001b[49m\u001b[43m \u001b[49m\u001b[43mkey2names\u001b[49m\u001b[38;5;241;43m=\u001b[39;49m\u001b[43mwhat\u001b[49m\u001b[43m,\u001b[49m\u001b[43m \u001b[49m\u001b[43mchangeNames\u001b[49m\u001b[38;5;241;43m=\u001b[39;49m\u001b[43msimpleNames\u001b[49m\u001b[43m,\u001b[49m\u001b[43m \u001b[49m\u001b[43mcommentChar\u001b[49m\u001b[38;5;241;43m=\u001b[39;49m\u001b[43mcommentChar\u001b[49m\u001b[43m,\u001b[49m\u001b[43m \u001b[49m\u001b[43mverbose\u001b[49m\u001b[38;5;241;43m=\u001b[39;49m\u001b[43mverbose\u001b[49m\u001b[43m)\u001b[49m\n\u001b[1;32m    789\u001b[0m names \u001b[38;5;241m=\u001b[39m data\u001b[38;5;241m.\u001b[39mdtype\u001b[38;5;241m.\u001b[39mnames\n\u001b[1;32m    790\u001b[0m \u001b[38;5;28;01mif\u001b[39;00m verbose:  \u001b[38;5;28mprint\u001b[39m(\u001b[38;5;124m'\u001b[39m\u001b[38;5;124m atmRead \u001b[39m\u001b[38;5;124m'\u001b[39m, \u001b[38;5;28mlen\u001b[39m(names), \u001b[38;5;124m'\u001b[39m\u001b[38;5;124mcolumns (data fields) in \u001b[39m\u001b[38;5;124m'\u001b[39m, \u001b[38;5;28mrepr\u001b[39m(atmFile), join_words(names,\u001b[38;5;124m'\u001b[39m\u001b[38;5;124m, \u001b[39m\u001b[38;5;124m'\u001b[39m))\n",
      "File \u001b[0;32m~/dkist_telluric_atlas/py4cats/aux/struc_array.py:86\u001b[0m, in \u001b[0;36mloadStrucArray\u001b[0;34m(inFile, key2names, changeNames, commentChar, verbose)\u001b[0m\n\u001b[1;32m     83\u001b[0m \tfieldNames \u001b[38;5;241m=\u001b[39m [changeNames\u001b[38;5;241m.\u001b[39mget(name,name) \u001b[38;5;28;01mfor\u001b[39;00m name \u001b[38;5;129;01min\u001b[39;00m fieldNames]\n\u001b[1;32m     85\u001b[0m \u001b[38;5;66;03m# simply assume all data are floats\u001b[39;00m\n\u001b[0;32m---> 86\u001b[0m frmt  \u001b[38;5;241m=\u001b[39m [\u001b[43mnp\u001b[49m\u001b[38;5;241;43m.\u001b[39;49m\u001b[43mfloat\u001b[49m]\u001b[38;5;241m*\u001b[39m\u001b[38;5;28mlen\u001b[39m(fieldNames)\n\u001b[1;32m     88\u001b[0m \u001b[38;5;66;03m# read file and return structured array\u001b[39;00m\n\u001b[1;32m     89\u001b[0m strArray \u001b[38;5;241m=\u001b[39m np\u001b[38;5;241m.\u001b[39mloadtxt(inFile, dtype\u001b[38;5;241m=\u001b[39m{\u001b[38;5;124m'\u001b[39m\u001b[38;5;124mnames\u001b[39m\u001b[38;5;124m'\u001b[39m: fieldNames, \u001b[38;5;124m'\u001b[39m\u001b[38;5;124mformats\u001b[39m\u001b[38;5;124m'\u001b[39m: frmt}, comments\u001b[38;5;241m=\u001b[39mcommentChar)\n",
      "File \u001b[0;32m~/miniconda3/envs/dkist_telluric_atlas/lib/python3.12/site-packages/numpy/__init__.py:324\u001b[0m, in \u001b[0;36m__getattr__\u001b[0;34m(attr)\u001b[0m\n\u001b[1;32m    319\u001b[0m     warnings\u001b[38;5;241m.\u001b[39mwarn(\n\u001b[1;32m    320\u001b[0m         \u001b[38;5;124mf\u001b[39m\u001b[38;5;124m\"\u001b[39m\u001b[38;5;124mIn the future `np.\u001b[39m\u001b[38;5;132;01m{\u001b[39;00mattr\u001b[38;5;132;01m}\u001b[39;00m\u001b[38;5;124m` will be defined as the \u001b[39m\u001b[38;5;124m\"\u001b[39m\n\u001b[1;32m    321\u001b[0m         \u001b[38;5;124m\"\u001b[39m\u001b[38;5;124mcorresponding NumPy scalar.\u001b[39m\u001b[38;5;124m\"\u001b[39m, \u001b[38;5;167;01mFutureWarning\u001b[39;00m, stacklevel\u001b[38;5;241m=\u001b[39m\u001b[38;5;241m2\u001b[39m)\n\u001b[1;32m    323\u001b[0m \u001b[38;5;28;01mif\u001b[39;00m attr \u001b[38;5;129;01min\u001b[39;00m __former_attrs__:\n\u001b[0;32m--> 324\u001b[0m     \u001b[38;5;28;01mraise\u001b[39;00m \u001b[38;5;167;01mAttributeError\u001b[39;00m(__former_attrs__[attr])\n\u001b[1;32m    326\u001b[0m \u001b[38;5;28;01mif\u001b[39;00m attr \u001b[38;5;241m==\u001b[39m \u001b[38;5;124m'\u001b[39m\u001b[38;5;124mtesting\u001b[39m\u001b[38;5;124m'\u001b[39m:\n\u001b[1;32m    327\u001b[0m     \u001b[38;5;28;01mimport\u001b[39;00m \u001b[38;5;21;01mnumpy\u001b[39;00m\u001b[38;5;21;01m.\u001b[39;00m\u001b[38;5;21;01mtesting\u001b[39;00m \u001b[38;5;28;01mas\u001b[39;00m \u001b[38;5;21;01mtesting\u001b[39;00m\n",
      "\u001b[0;31mAttributeError\u001b[0m: module 'numpy' has no attribute 'float'.\n`np.float` was a deprecated alias for the builtin `float`. To avoid this error in existing code, use `float` by itself. Doing this will not modify any behavior and is safe. If you specifically wanted the numpy scalar type, use `np.float64` here.\nThe aliases was originally deprecated in NumPy 1.20; for more details and guidance see the original release note at:\n    https://numpy.org/devdocs/release/1.20.0-notes.html#deprecations"
     ]
    },
    {
     "data": {
      "application/vnd.jupyter.widget-view+json": {
       "model_id": "cd1340fce2f144198f2bfbadd5756b28",
       "version_major": 2,
       "version_minor": 0
      },
      "image/png": "[encoded data removed]",
      "text/html": [
       "\n",
       "            <div style=\"display: inline-block;\">\n",
       "                <div class=\"jupyter-widgets widget-label\" style=\"text-align: center;\">\n",
       "                    Figure\n",
       "                </div>\n",
       "                <img src='data:image/png;base64,iVBORw0KGgoAAAANSUhEUgAABLAAAAGQCAYAAAC+tZleAAAAOXRFWHRTb2Z0d2FyZQBNYXRwbG90bGliIHZlcnNpb24zLjguMywgaHR0cHM6Ly9tYXRwbG90bGliLm9yZy/H5lhTAAAACXBIWXMAAA9hAAAPYQGoP6dpAAAmpUlEQVR4nO3df5DU9X0/8Nfxw41NuEO5FHHEpmcQNMgPhXEMZkS5xChCsDJEJxNJx9CxTEvbjDWBFF1tEzqNk2HyR0xrqh1JDTdjjopXpyNe0kCBMQwFRJKmHU4qVROOU+6w2hXh8/2D722yuTvkOPb2vevjMbOTufd+3rfvt8vzLvO8z+ezdVmWZQEAAAAAiRpR6QUAAAAAwKkosAAAAABImgILAAAAgKQpsAAAAABImgILAAAAgKQpsAAAAABImgILAAAAgKQpsAAAAABImgILAAAAgKQpsAAAAABImgILAAAAgKQpsAAAAABImgILAAAAgKQpsAAAAABImgILAAAAgKQpsAAAAABImgILAAAAgKQpsAAAAABImgILAAAAgKQpsAAAAABImgILAAAAgKQpsAAAAABImgILAAAAgKQpsAAAAABImgILAAAAgKQpsAAAAABImgILAAAAgKQpsAAAAABImgILAAAAgKQpsAAAAABImgILAAAAgKQpsAAAAABImgILAAAAgKQpsAAAAABImgILAAAAgKQpsAAAAABImgILAAAAgKQpsAAAAABImgILAAAAgKQpsAAAAABImgKrjI4cORKf+9znoq6uLg4cOFDp5QAAAABUJQVWmTz77LNx5ZVXxp49ewY9t1AoxKpVq2Ly5Mkxbdq0mD17drS1tZVhlQAAAADpU2CVyV/+5V/GD37wg1i8ePGg5y5dujQ2bNgQW7dujRdeeCFWr14dixYtimeeeaYMKwUAAABImwKrTH70ox/FzJkzBz1v8+bN0dLSEvl8PhobGyMiYuHChdHc3BwrVqyILMvO9lIBAAAAkqbAKpNRo0ad0byWlpaIiJg3b17JeHNzc+zfvz927tw55LUBAAAAVBMFVmJ2794d9fX1xbOvejU1NRWfBwAAAHg/ObPThCibzs7OqK+v7zPeO9bZ2Tng3EKhEIVCofj1iRMn4vXXX49x48ZFXV3d2V8s1Igsy+Lo0aNx4YUXxogRafT68gxnLrVMyzOcudTyHCHTcKZSzDPVRYFVJXrvfXWqX4pr1qyJBx54YLiWBDXn4MGDcdFFF1V6GREhz3A2pJJpeYahSyXPETINQ5VSnqkudZm7gpdVPp+PBx54IF566aX4yEc+8p7Hf/zjH499+/ZFd3d3yXhra2vcdttt8cgjj8QXv/jFfuf+5l+Duru74+KLL46DBw/2e1YXcFJPT09MnDgxjhw5Eg0NDZVeTkTIMwxFapmWZzhzqeU5QqbhTKWYZ6qLM7ASM2PGjNi+fXt0dXXFuHHjiuMdHR0RETF9+vQB5+Zyucjlcn3G6+vr/TKF05DSaf/yDEOXSqblGYYulTxHyDQMVUp5prq48LSCjh8/HocOHSoZW7JkSUREtLe3l4y3t7dHU1NTzJo1a9jWBwAAAJACBVYFLV++PCZMmBDbtm0rjs2dOzcWL14c+Xw+Dh8+HBERbW1tsWnTpli7dq22GgAAAHjfcQlhmTz44IPR2toav/jFLyIi4uabb45zzjknvvvd7xbPoho/fnyMHTu2z6nG69ati3w+H3PmzIlcLhejR4+O1tbWWLBgwbDvAwAAAKDS3MS9hvX09ERDQ0N0d3e7Hh9OoRqyUg1rhFSknpfU1wcpqYa8VMMaIQWywlC5hBAAAACApCmwAAAAAEiaAgsAAACApCmwAAAAAEiaAgsAAACApCmwAAAAAEiaAgsAAACApCmwAAAAAEiaAgsAAACApCmwAAAAAEiaAgsAAACApCmwAAAAAEiaAgsAAACApCmwAAAAAEiaAgsAAACApCmwAAAAAEiaAgsAAACApCmwAAAAAEiaAgsAAACApCmwAAAAAEiaAgsAAACApCmwAAAAAEiaAgsAAACApCmwAAAAAEiaAgsAAACApCmwAAAAAEiaAgsAAACApCmwAAAAAEiaAgsAAACApCmwAAAAAEiaAgsAAACApCmwAAAAAEiaAgsAAACApCmwAAAAAEiaAgsAAACApCmwAAAAAEiaAgsAAACApCmwAAAAAEiaAgsAAACApCmwAAAAAEiaAgsAAACApCmwAAAAAEiaAgsAAACApCmwAAAAAEiaAgsAAACApCmwAAAAAEiaAgsAAACApCmwAAAAAEiaAgsAAACApCmwyqRQKMSqVati8uTJMW3atJg9e3a0tbWd1ty9e/fG4sWL4/LLL4/p06fH1KlT48EHH4y33nqrzKsGAAAASM+oSi+gVi1dujT27NkTW7dujcbGxti4cWMsWrQoNm7cGDfffPOA81566aW45pprYv78+bFr167I5XLxn//5nzFnzpzYtWtXbNiwYRh3AQAAAFB5zsAqg82bN0dLS0vk8/lobGyMiIiFCxdGc3NzrFixIrIsG3Duhg0b4n//93/jy1/+cuRyuYiIuPTSS+OOO+6Ip556Ko4cOTIcWwAAAABIhgKrDFpaWiIiYt68eSXjzc3NsX///ti5c+eAc8eMGRMREceOHSsZf+eddyIiYvTo0WdzqQAAAADJU2CVwe7du6O+vr549lWvpqam4vMDueOOO+KKK66I++67L15//fWIiNi+fXs88cQTcffdd8cHP/jBsq0bAAAAIEXugVUGnZ2dUV9f32e8d6yzs3PAuR/60Ieivb09li1bFr/9278dH/7wh+PNN9+M+++/P+65555Tvm6hUIhCoVD8uqen5wx3AFSaPEPtkGeoLTINUBnOwBpGvfe+qqurG/CY/fv3x+zZs2PkyJHR2dkZr732Wjz33HPxzW9+M+69995Tfv81a9ZEQ0ND8TFx4sSzun5g+Mgz1A55htoi0wCVocAqg8bGxn7/EnP06NHi8wP56le/GgcPHoxHHnkkzjvvvIiIuPrqq+Pee++Nb3zjG/HjH/94wLkrV66M7u7u4uPgwYND3AlQKfIMtUOeobbINEBluISwDGbMmBHbt2+Prq6uGDduXHG8o6MjIiKmT58+4Nw9e/bEhz/84Tj//PNLxidPnhwRET/5yU/iuuuu63duLpcrfnIhUN3kGWqHPENtkWmAynAGVhksWbIkIiLa29tLxtvb26OpqSlmzZoVERHHjx+PQ4cOlRwzfvz4OHz4cLz55psl4wcOHIiIU5+9BQAAAFCLFFhlMHfu3Fi8eHHk8/k4fPhwRES0tbXFpk2bYu3atcV7YC1fvjwmTJgQ27ZtK8790z/90zhx4kT82Z/9WRw7diwiTp659Y1vfCMuvvjiuO2224Z/QwAAAAAV5BLCMlm3bl3k8/mYM2dO5HK5GD16dLS2tsaCBQuKx4wfPz7Gjh1b8omFixYtih/+8Ifx13/91zF16tQ455xz4t13342bb745vvrVr/b76YYAAAAAtawu6/1oPGpOT09PNDQ0RHd3t+ILTqEaslINa4RUpJ6X1NcHKamGvFTDGiEFssJQuYQQAAAAgKQpsAAAAABImgILAAAAgKQpsAAAAABImgILAAAAgKQpsAAAAABImgILAAAAgKQpsAAAAABImgILAAAAgKQpsAAAAABImgILAAAAgKQpsAAAAABImgILAAAAgKQpsAAAAABImgILAAAAgKQpsAAAAABImgILAAAAgKQpsAAAAABImgILAAAAgKQpsAAAAABImgILAAAAgKQpsAAAAABImgILAAAAgKQpsAAAAABImgILAAAAgKQpsAAAAABImgILAAAAgKQpsAAAAABImgILAAAAgKQpsAAAAABImgILAAAAgKQpsAAAAABImgILAAAAgKQpsAAAAABImgILAAAAgKQpsAAAAABImgILAAAAgKQpsAAAAABImgILAAAAgKQpsAAAAABImgILAAAAgKQpsAAAAABImgILAAAAgKQpsAAAAABImgILAAAAgKQpsAAAAABImgILAAAAgKQpsAAAAABImgILAAAAgKQpsMqkUCjEqlWrYvLkyTFt2rSYPXt2tLW1nfb8H/7wh3HjjTfGVVddFZMnT45JkybFXXfdVcYVAwAAAKRpVKUXUKuWLl0ae/bsia1bt0ZjY2Ns3LgxFi1aFBs3boybb775lHP/4R/+Ie677754+umnY/r06RER8dhjj8WyZcvi7//+74dj+QAAAADJUGCVwebNm6OlpSXWr18fjY2NERGxcOHCaG5ujhUrVsRNN90UdXV1/c599dVX44/+6I/iscceK5ZXERFf+MIXYuzYscOxfAAAAICkuISwDFpaWiIiYt68eSXjzc3NsX///ti5c+eAcx9//PF4++2345ZbbikZr6uri1tvvfXsLxYAAAAgcc7AKoPdu3dHfX198eyrXk1NTcXnZ82a1e/cLVu2xAUXXBA7duyIr3/96/Hyyy/HyJEj46abborVq1fHmDFjBnzdQqEQhUKh+HVPT89Z2A1QCfIMtUOeobbINEBlOAOrDDo7O6O+vr7PeO9YZ2fngHNffvnl6Orqirvuuiseeuih+OlPfxr/+I//GOvXr4/rr78+3nnnnQHnrlmzJhoaGoqPiRMnDn0zQEXIM9QOeYbaItMAlaHAGkZZlkVEDHj/q4iIt99+OwqFQvzFX/xFTJ06NSIipk2bFqtXr46dO3cWL0/sz8qVK6O7u7v4OHjw4NndADBs5BlqhzxDbZFpgMpwCWEZNDY2xr59+/qMHz16tPj8QHovEbzyyitLxnsvOXz++efj85//fL9zc7lc5HK5M1ozkBZ5htohz1BbZBqgMpyBVQYzZsyInp6e6OrqKhnv6OiIiCj5dMHfdPnll0dExIkTJ0rGR4062TX2nsUFAAAA8H6hwCqDJUuWREREe3t7yXh7e3s0NTUVz6Y6fvx4HDp0qOSY3k8a3LNnT8l479dXX311WdYMAAAAkCoFVhnMnTs3Fi9eHPl8Pg4fPhwREW1tbbFp06ZYu3Zt8R5Yy5cvjwkTJsS2bduKc3/v934v5s6dG1//+tfjlVdeiYiIV155Jf7qr/4qrrrqqrj99tuHf0MAAAAAFeQeWGWybt26yOfzMWfOnMjlcjF69OhobW2NBQsWFI8ZP358jB07tuQTC0eMGBFPP/103HfffTFnzpw499xz45133omFCxfGAw88EOecc04ltgMAAABQMXWZmyrVrJ6enmhoaIju7u6SkgwoVQ1ZqYY1QipSz0vq64OUVENeqmGNkAJZYahcQggAAABA0hRYAAAAACRNgQUAAABA0hRYAAAAACRNgQUAAABA0hRYAAAAACRNgQUAAABA0hRYAAAAACRNgQUAAABA0hRYAAAAACRNgQUAAABA0hRYAAAAACRNgQUAAABA0hRYAAAAACRNgQUAAABA0hRYAAAAACRNgQUAAABA0hRYAAAAACRNgQUAAABA0hRYAAAAACRNgQUAAABA0hRYAAAAACRNgQUAAABA0hRYAAAAACRNgQUAAABA0hRYAAAAACRNgQUAAABA0hRYAAAAACRNgQUAAABA0hRYAAAAACRNgQUAAABA0hRYAAAAACRNgQUAAABA0hRYAAAAACRNgQUAAABA0hRYAAAAACRNgQUAAABA0hRYAAAAACRNgQUAAABA0hRYAAAAACRNgQUAAABA0hRYAAAAACRNgQUAAABA0hRYAAAAACRNgQUAAABA0hRYAAAAACRNgQUAAABA0hRYifvOd74TdXV1kc/nK70UAAAAgIpQYJVJoVCIVatWxeTJk2PatGkxe/bsaGtrG9T3eOONN2L16tVlWiEAAABAdVBglcnSpUtjw4YNsXXr1njhhRdi9erVsWjRonjmmWdO+3usXr065syZU8ZVAgAAAKRPgVUGmzdvjpaWlsjn89HY2BgREQsXLozm5uZYsWJFZFn2nt9j79698YMf/MClgwAAAMD7ngKrDFpaWiIiYt68eSXjzc3NsX///ti5c+d7fo8//uM/jgcffDDGjh1bjiUCAAAAVA0FVhns3r076uvri2df9Wpqaio+fyotLS1x9OjRuOuuu8q1RAAAAICqMarSC6hFnZ2dUV9f32e8d6yzs3PAuW+99Vbce++98cQTT8SIEYPrFwuFQhQKheLXPT09g5oPpEOeoXbIM9QWmQaoDGdgDaPee1/V1dUNeMyaNWvi2muvPaObt69ZsyYaGhqKj4kTJ57xWoHKkmeoHfIMtUWmASpDgVUGjY2N/f4l5ujRo8Xn+/PSSy/Fww8/HH/zN39zRq+7cuXK6O7uLj4OHjx4Rt8HqDx5htohz1BbZBqgMlxCWAYzZsyI7du3R1dXV4wbN6443tHRERER06dP73fec889Fx/84Adj/vz5xbF33nknIiK+853vxD/90z/FRz/60XjyySf7nZ/L5SKXy52tbQAVJM9QO+QZaotMA1SGM7DKYMmSJRER0d7eXjLe3t4eTU1NMWvWrIiIOH78eBw6dKj4/LJly+K///u/Y/fu3cXHM888ExERd999d+zevXvA8goAAACgVimwymDu3LmxePHiyOfzcfjw4YiIaGtri02bNsXatWuL98Bavnx5TJgwIbZt21bJ5QIAAAAkzSWEZbJu3brI5/MxZ86cyOVyMXr06GhtbY0FCxYUjxk/fnyMHTu2308sPHLkSMydO7fPJYRf+tKX4s477xy2fQAAAABUWl3W+9F41Jyenp5oaGiI7u7ufksy4KRqyEo1rBFSkXpeUl8fpKQa8lINa4QUyApD5RJCAAAAAJKmwAIAAAAgaQosAAAAAJKmwAIAAAAgaQosAAAAAJKmwAIAAAAgaQosAAAAAJKmwAIAAAAgaQosAAAAAJKmwAIAAAAgaQosAAAAAJKmwAIAAAAgaQosAAAAAJKmwAIAAAAgaQosAAAAAJKmwAIAAAAgaQosAAAAAJKmwAIAAAAgaQosAAAAAJKmwAIAAAAgaQosAAAAAJKmwAIAAAAgaQosAAAAAJKmwAIAAAAgaQosAAAAAJKmwAIAAAAgaQosAAAAAJKmwAIAAAAgaQosAAAAAJKmwAIAAAAgaQosAAAAAJKmwAIAAAAgaQosAAAAAJKmwAIAAAAgaQosAAAAAJKmwAIAAAAgaQosAAAAAJKmwAIAAAAgaQosAAAAAJKmwAIAAAAgaQosAAAAAJKmwAIAAAAgaQosAAAAAJKmwAIAAAAgaQosAAAAAJKmwAIAAAAgaQosAAAAAJKmwAIAAAAgaQosAAAAAJKmwCqTQqEQq1atismTJ8e0adNi9uzZ0dbW9p7zOjo64itf+UrMnj07Zs6cGVOmTImbbroptmzZMgyrBgAAAEiPAqtMli5dGhs2bIitW7fGCy+8EKtXr45FixbFM888c8p5y5cvj2effTaeeuqp2LVrV+zduzc+8pGPxNy5c2Pjxo3DtHoAAACAdCiwymDz5s3R0tIS+Xw+GhsbIyJi4cKF0dzcHCtWrIgsy045f/Xq1XHhhRdGRMTo0aPjm9/8ZowYMSIeeuihsq8dAAAAIDUKrDJoaWmJiIh58+aVjDc3N8f+/ftj586dA859+umnY9GiRSVj5557bpx//vnxxhtvnPW1AgAAAKRuVKUXUIt2794d9fX1xbOvejU1NRWfnzVrVr9zR48e3Wesq6srOjs74/bbbz/l6xYKhSgUCsWve3p6Brt0IBHyDLVDnqG2yDRAZTgDqww6Ozujvr6+z3jvWGdn56C+38MPPxyNjY2xcuXKUx63Zs2aaGhoKD4mTpw4qNcB0iHPUDvkGWqLTANUhgJrGPXe+6quru605+zYsSMeeuihWL9+fVxwwQWnPHblypXR3d1dfBw8eHBI6wUqR56hdsgz1BaZBqgMlxCWQWNjY+zbt6/P+NGjR4vPn44XX3wxbr311vje974XN9xww3sen8vlIpfLDW6xQJLkGWqHPENtkWmAynAGVhnMmDEjenp6oqurq2S8o6MjIiKmT5/+nt9j165dMX/+/Hj00UfjlltuKcs6AQAAAKqBAqsMlixZEhER7e3tJePt7e3R1NRUvIH78ePH49ChQ33m/+QnP4nPfOYz8fjjj8enPvWp4vhAN34HAAAAqGUKrDKYO3duLF68OPL5fBw+fDgiItra2mLTpk2xdu3a4j2wli9fHhMmTIht27YV5/7bv/1bNDc3x6233hqvvfZarF+/vvjYuXNnRfYDAAAAUEnugVUm69ati3w+H3PmzIlcLhejR4+O1tbWWLBgQfGY8ePHx9ixY0s+sXDFihVx9OjR+Na3vhXf+ta3KrF0AAAAgKTUZb0fjUfN6enpiYaGhuju7i4pyYBS1ZCValgjpCL1vKS+PkhJNeSlGtYIKZAVhsolhAAAAAAkTYEFAAAAQNIUWAAAAAAkTYEFAAAAQNIUWAAAAAAkTYEFAAAAQNIUWAAAAAAkTYEFAAAAQNIUWAAAAAAkTYEFAAAAQNIUWAAAAAAkTYEFAAAAQNIUWAAAAAAkTYEFAAAAQNIUWAAAAAAkTYEFAAAAQNIUWAAAAAAkTYEFAAAAQNIUWAAAAAAkTYEFAAAAQNIUWAAAAAAkTYEFAAAAQNIUWAAAAAAkTYEFAAAAQNIUWAAAAAAkTYEFAAAAQNIUWAAAAAAkTYEFAAAAQNIUWAAAAAAkTYEFAAAAQNIUWAAAAAAkTYEFAAAAQNIUWAAAAAAkTYEFAAAAQNIUWAAAAAAkTYEFAAAAQNIUWAAAAAAkTYEFAAAAQNIUWAAAAAAkTYEFAAAAQNIUWAAAAAAkTYEFAAAAQNIUWAAAAAAkTYEFAAAAQNIUWAAAAAAkTYEFAAAAQNIUWAAAAAAkTYEFAAAAQNIUWGVSKBRi1apVMXny5Jg2bVrMnj072trayj4XAAAAoNaMqvQCatXSpUtjz549sXXr1mhsbIyNGzfGokWLYuPGjXHzzTeXbS4AAABArXEGVhls3rw5WlpaIp/PR2NjY0RELFy4MJqbm2PFihWRZVlZ5gIAAADUIgVWGbS0tERExLx580rGm5ubY//+/bFz586yzAUAAACoRQqsMti9e3fU19cXz6Dq1dTUVHy+HHMBAAAAapF7YJVBZ2dn1NfX9xnvHevs7CzL3EKhEIVCofh1d3d3RET09PSc3sLhfao3IyldoivPcOZSy7Q8w5lLLc8RMg1nKsU8U10UWMOoN6h1dXVlmbtmzZp44IEH+oxPnDhx0K8H70ddXV3R0NBQ6WVEhDzD2ZBKpuUZhi6VPEfINAxVSnmmutRl6s+z7uMf/3js27ev+NeYXq2trXHbbbfFI488El/84hfP+tzf/GvQkSNH4nd+53fi5ZdfrvofED09PTFx4sQ4ePBgv2eoVRN7SU93d3dcfPHF8cYbb8TYsWMrvZyIkOdqYS9pSi3T8lwd7CVNqeU5onYzXUv/buwlTSnmmeriDKwymDFjRmzfvj26urpi3LhxxfGOjo6IiJg+fXpZ5uZyucjlcn3GGxoaqv6HXa/6+np7SVCt7GXEiHRuCyjP1cVe0pRKpuW5uthLmlLJc0TtZ7qW/t3YS5pSyjPVxb+cMliyZElERLS3t5eMt7e3R1NTU8yaNSsiIo4fPx6HDh06o7kAAAAA7xcKrDKYO3duLF68OPL5fBw+fDgiItra2mLTpk2xdu3a4n2sli9fHhMmTIht27YNei4AAADA+4VLCMtk3bp1kc/nY86cOZHL5WL06NHR2toaCxYsKB4zfvz4GDt2bJ9TQU9n7unI5XJx//3393uKc7WxlzTVyl6qYR/VsMbTZS9pspfhk/r6BsNe0mQvw6sa1ng6amUfEfaSqlraC5XhJu4AAAAAJM0lhAAAAAAkTYEFAAAAQNIUWAAAAAAkTYEF1IwjR47E5z73uairq4sDBw5UejnAEMgz1A55htohz1SSAithhUIhVq1aFZMnT45p06bF7Nmzo62t7azP/Y//+I+YP39+TJkyJS699NK4/fbb49VXXz2bWznjvXR0dMRXvvKVmD17dsycOTOmTJkSN910U2zZsqXPsfl8Pi6++OKYMWNGyeP6669PYi8HDhyID33oQ33WN2PGjH73k/L78oUvfKHf/9ZTp06Nurq6aG1tLR47XO/Ls88+G1deeWXs2bNn0HOHKy8ynV6m5Vme5bl28jyUvaSWaXk+SZ4HT57Ty/NQ9pJapqshz9S4jGR99rOfzaZMmZJ1dnZmWZZlTz31VDZy5Mjsn//5n8/a3JdffjlrbGzM/vzP/zw7ceJEduzYseyzn/1sNmnSpKynp6fie7nxxhuzmTNnZq+88kqWZVn2zjvvZHfffXc2YsSI7Kmnnio59v77788ee+yxs7bmgZzpXl566aXsuuuuO63XSP19Wbp0ab//rZ988sns/PPPz95+++3i2HC9L9dee2327//+79n999+fRUT20ksvnfbc4cqLTKeXaXmWZ3munTxnWe1kWp5PkufBk+f08pxltZPpasgztU2Blagf//jHWURk69evLxm/8cYbs0suuSQ7ceLEWZn7+7//+9nYsWNLfvi98sor2YgRI7IHH3yw4nu58cYbs9bW1pKxt956Kxs1alT2iU98omR8OH5oD2Uvg/llmvr7sm3btmz//v19xj/5yU9mX/rSl0rGhuv/5Bw7dqz4eoP5hTpceZHpXx2TSqbl+SR5ludayHOW1U6m5fkkeR48eT4ppTxnWW1lOvU8U/tcQpiolpaWiIiYN29eyXhzc3Ps378/du7cOeS5x48fjyeffDKuvfba+MAHPlA87sILL4zLLrus+H0quZenn346Fi1aVDJ27rnnxvnnnx9vvPHGWVnfYAxlL6erGt6Xa665JpqamkrGOjo6or29Pe6+++6zsr7BGjVq1BnNG668yPRJKWVank+SZ3k+072klOeI2sm0PJ8kz4Mnz4NTDe9LaplOPc/UPgVWonbv3h319fXR2NhYMt77A2z37t1DntvR0RFHjx7t80Ox99if/exnUSgUhrCLwa2nP6NHj466urqSsa6urujs7Iwbbrihz/H/8i//Etdff31MnTo1rrjiilixYkW89tprQ95Dr6HsJSLil7/8Zdx5551x5ZVXxqRJk2LhwoXx3HPPlRxTDe9Lf/7u7/4ubrjhhpg0aVKf58r9vgzFcOVFpk9KKdPyPDB5ludqy3PvWmsh0/J8kjwPnjz/Sip57l3r+z3TqWWF6qXASlRnZ2fU19f3Ge8d6+zsHPLc3v8d6NgTJ07E66+/PvjFn+F6TtfDDz8cjY2NsXLlypLx3/qt34q6urpYt25dvPjii7Fx48Z4/vnn46qrror/+Z//OfMN/Jqh7GXkyJFx4sSJuOuuu2LHjh2xd+/emDFjRnzqU5+K7373uyWv8evf8zdfJ8X35dixY/HYY4/FH/7hH/Z5bjjel6EYrrzI9MAqlWl57p88y3N/6zldfkcP/X2R55PkefDk+aSU8tz7Ou/3TKeWFaqXAqvKZFkWEdHnLyRne+5QXqcc6+m1Y8eOeOihh2L9+vVxwQUXlDx37733xve///246KKLIiLid3/3d+PRRx+N1157Lb72ta+dvYX343T2MnHixPj5z38e1113XYwcOTI+8IEPxIMPPhhXXXVV3HPPPaf114RU35cNGzbEqFGjYuHChX2eq+T7MhTDlReZTi/T8izPp3tspeam+m8nxTxH1E6m5fkkeR48eU4vz2f6GrWW6dSyQvoUWIlqbGyMnp6ePuNHjx4tPj/Uub3/O9CxI0aMiPPOO2/wiz/D9byXF198MW699db43ve+1++pzP352Mc+FmPGjImtW7ee/oJP4Wzt5dddc8010d3dHfv27Sv5HtXyvkRE/O3f/m0sW7bstK+LP9vvy1AMV15kuq9KZ1qe+yfP8tzfet5LpfMcUTuZlueT5Hnw5PnU/I6unNSyQvVSYCVqxowZ0dPTE11dXSXjHR0dERExffr0Ic+95JJLYsyYMcXx3zx2ypQpkcvlhrSPwaznVHbt2hXz58+PRx99NG655ZZ+j/nFL37R7/jIkSPj3XffHeSq+zeUvXR3d8fbb7/d7/oiorjGanpfIiL+67/+K7Zs2RLLli3r9/nheF+GYrjyItOlUsi0PPclz/I80HpOJYU8R9ROpuX5JHkePHk+KaU8R8h0RHpZoYqV90MOOVM/+tGPsojIWlpaSsY//elPZ01NTcWPGn333XezX/7yl2c0N8uybOnSpdl5552X/d///V9x7NVXX81GjBiR5fP5iu8ly7Ls+eefzyZOnJj967/+a8n4VVddVfJ1RGSvvPJKydj+/fuziMg+//nPn42tDGkvS5cuzb72ta/1+Z6f+MQnsnPPPTd78803S45N/X3pdc8992S33nrrgM8Px/vy6071sb6VzItM/0oqmZbnvuRZngezlyxLJ89ZVjuZlueT5Hnw5PmklPI81L38upQynWqeqX0KrIQtXrw4u+yyy7LOzs4sy7Ls6aefzkaOHJlt3LixeMwf/MEfZCNGjMi2bt066LlZlmUHDhzIxo0bl917773ZiRMnsmPHjmV33HFHdskll2Td3d0V38uWLVuyMWPGZCtWrMi+//3vlzx+s3+NiOzOO+/M3nrrrSzLsuzIkSPZJz/5yWzMmDHZz372s4rvZenSpdlFF12U/fznPy+Offvb384ios8v2dTfl16FQiFrbGzMnn322QFfY7jel16n+oVa6bzIdHqZludfkWd5rvY8D2UvqWVank+S58GT5/TyPJS99Eot0ynnmdqmwErY22+/nX35y1/OLr300uyKK67Irrzyyuypp54qOWb16tXZ+eefn+3du3fQc3vt27cv+/SnP51Nnjw5mzRpUrZkyZLs4MGDSexl5syZWUQM+Ph1TzzxRPaZz3wmu/zyy7OPfexj2UUXXZQtWbIk++lPf5rEXl544YXsT/7kT7IrrrgimzZtWjZx4sTs6quvzh5//PF+Xyfl96XXE088kX30ox8t+atJf8cMx/vywAMPZNOnT8/Gjx+fRUR22WWXZdOnT8927NjxnnsZrrzIdHqZludfkWd5rvY8D2UvqWVank+S58GT5/TyPJS99Eol09WQZ2pbXZb9/9v5AwAAAECC3MQdAAAAgKQpsAAAAABImgILAAAAgKQpsAAAAABImgILAAAAgKQpsAAAAABImgILAAAAgKQpsAAAAABImgILAAAAgKQpsAAAAABImgILAAAAgKQpsAAAAABImgILAAAAgKQpsAAAAABImgILAAAAgKQpsAAAAABImgILAAAAgKQpsAAAAABImgILAAAAgKQpsAAAAABI2v8Dw0mr+37gQrcAAAAASUVORK5CYII=' width=1200.0/>\n",
       "            </div>\n",
       "        "
      ],
      "text/plain": [
       "Canvas(toolbar=Toolbar(toolitems=[('Home', 'Reset original view', 'home', 'home'), ('Back', 'Back to previous …"
      ]
     },
     "metadata": {},
     "output_type": "display_data"
    }
   ],
   "source": [
    "fig,ax = plt.subplots(1,4,figsize = (12,4),sharey=True)\n",
    "ax = ax.flatten()\n",
    "\n",
    "\n",
    "for n in range(len(atmos)): \n",
    "    \n",
    "    atmDat = atmRead('./py4cats/data/atmos/50/' + atmos[n] + '.xy')\n",
    "    \n",
    "    ## plot z vs T\n",
    "    plt.sca(ax[0])\n",
    "    atmPlot(atmDat,label = atmos[n])\n",
    "    \n",
    "    ## plot z vs P\n",
    "    plt.sca(ax[1])\n",
    "    atmPlot(atmDat,'p',label = atmos[n])\n",
    "    ax[1].set_xscale('log')\n",
    "\n",
    "    ## plot h20 and c02 content \n",
    "    main_mol = 'H2O','CO2','O3','N2O','CO','CH4','O2',\n",
    "    for mm in range(2): \n",
    "        plt.sca(ax[mm+2])\n",
    "        atmPlot(atmDat,main_mol[mm],label = atmos[n])\n",
    "        ax[mm+2].set_xscale('log')\n",
    "        ax[mm+2].legend(loc = 'upper right')\n",
    "\n",
    "\n",
    "fig.tight_layout()"
   ]
  },
  {
   "cell_type": "markdown",
   "id": "611f9729-7309-4662-80f1-94510763d2e8",
   "metadata": {},
   "source": [
    "## Now finer comparison of 2 atmosphere"
   ]
  },
  {
   "cell_type": "code",
   "execution_count": null,
   "id": "806a5b41-7768-49c3-86f8-2c8466659705",
   "metadata": {
    "tags": []
   },
   "outputs": [],
   "source": [
    "atm_midLatWinter = atmRead('./py4cats/data/atmos/50/midlatitudeWinter.xy')\n",
    "atm_standard = atmRead('./py4cats/data/atmos/50/USstandard_main.xy')  ## Ammonia wasn't really that important\n",
    "atm_midLatWinter['CO2'] = atm_midLatWinter['CO2'] \n",
    "atm_standard['CO2'] = atm_standard['CO2'] "
   ]
  },
  {
   "cell_type": "code",
   "execution_count": null,
   "id": "7877d2d3-c716-4b8b-a241-cb838265240a",
   "metadata": {
    "tags": []
   },
   "outputs": [],
   "source": [
    "#REGRIDDING \n",
    "znew = np.hstack((parseGridSpec('0[0.1]7'),atm_midLatWinter['z'][8:]/1e5))\n",
    "print(znew.shape)\n",
    "atm_midLatWinter = atmRegrid(atm_midLatWinter,znew*1e5)\n",
    "atm_standard  = atmRegrid(atm_standard,znew*1e5)"
   ]
  },
  {
   "cell_type": "code",
   "execution_count": null,
   "id": "a410fdfe-d585-429b-bbfe-810758047aca",
   "metadata": {
    "tags": []
   },
   "outputs": [],
   "source": [
    "print(' Height index,  z [km] ,  P (atm) ,  T (K)')\n",
    "for n in range(10): \n",
    "    print('        ',n,'    ', np.round(atm_midLatWinter['z'][n]/1e5,2),'      ',np.round(atm_midLatWinter['p'][n]/1000.*100./101325.,2),'     ',atm_midLatWinter['T'][n])"
   ]
  },
  {
   "cell_type": "code",
   "execution_count": null,
   "id": "0053e24c-19ed-4213-849c-02ee8fca7375",
   "metadata": {
    "tags": []
   },
   "outputs": [],
   "source": [
    "fig,ax = plt.subplots(2,4,figsize = (10,7),sharey=True)\n",
    "ax = ax.flatten()\n",
    "plt.sca(ax[0])\n",
    "atmPlot(atm_midLatWinter,label = 'midLatWinter')\n",
    "atmPlot(atm_standard,label = 'Standard')\n",
    "ax[0].legend()\n",
    "\n",
    "main_mol = 'H2O','CO2','O3','N2O','CO','CH4','O2',\n",
    "for n in range(1,8): \n",
    "    plt.sca(ax[n])\n",
    "    atmPlot(atm_midLatWinter,main_mol[n-1],label = 'midLatWinter')\n",
    "    atmPlot(atm_standard,main_mol[n-1],label = 'Standard')\n",
    "    ax[n].set_xscale('log')\n",
    "    ax[n].legend(loc = 'upper right')\n",
    "    \n",
    "ax[0].set_ylim(-1,160)\n",
    "\n",
    "for n in range(1,8): \n",
    "    ax[n].set_xlim(1e4,1e20)\n",
    "    \n",
    "fig.tight_layout()"
   ]
  },
  {
   "cell_type": "code",
   "execution_count": null,
   "id": "0d50acb1-10ad-470f-9ac1-8d709b9f01a2",
   "metadata": {
    "tags": []
   },
   "outputs": [],
   "source": [
    "fig,ax = plt.subplots(2,4,figsize = (10,7),sharey=True)\n",
    "ax = ax.flatten()\n",
    "plt.sca(ax[0])\n",
    "atmPlot(atm_midLatWinter,label = 'midLatWinter')\n",
    "atmPlot(atm_standard,label = 'Standard')\n",
    "ax[0].legend()\n",
    "\n",
    "main_mol = 'H2O','CO2','O3','N2O','CO','CH4','O2',\n",
    "for n in range(1,8): \n",
    "    plt.sca(ax[n])\n",
    "    plt.plot(vmr(atm_midLatWinter,main_mol[n-1]),atm_midLatWinter['z']/1e5,label = 'midLatWinter')\n",
    "    plt.plot(vmr(atm_standard,main_mol[n-1]),atm_standard['z']/1e5,label = 'Standard')\n",
    "    plt.xscale('log')\n",
    "    plt.xlabel('Vol Mixing Ratio ['+main_mol[n-1] + ']')\n",
    "    ax[n].legend(loc = 'upper right')\n",
    "    \n",
    "ax[0].set_ylim(-1,160)\n",
    "fig.tight_layout()"
   ]
  },
  {
   "cell_type": "markdown",
   "id": "ecdaea7d-eccd-4350-ba59-d218adba06be",
   "metadata": {},
   "source": [
    "## Get vertical column densities [molec / cm**2 ] "
   ]
  },
  {
   "cell_type": "code",
   "execution_count": null,
   "id": "4684484f-6a1b-4795-a19c-947316d8cce4",
   "metadata": {
    "tags": []
   },
   "outputs": [],
   "source": [
    "print(f\"Vertical column density in midLatWinter (full atmosphere): {vcd(atm_midLatWinter,'H2O',zMin = 0.0)}\") \n",
    "print(f\"Vertical column density in midLatWinter (above 3km): {vcd(atm_midLatWinter,'H2O',zMin = 3.0)}\") \n",
    "print(f\"Vertical column density in US standard (full atmosphere): {vcd(atm_standard,'H2O',zMin = 0.0)}\") \n",
    "print(f\"Vertical column density in US standard  (above 3km): {vcd(atm_standard,'H2O',zMin = 3.0)}\") "
   ]
  },
  {
   "cell_type": "code",
   "execution_count": null,
   "id": "13251f95-9bad-40c6-84f6-20d62446fee4",
   "metadata": {
    "tags": []
   },
   "outputs": [],
   "source": [
    "print(f\"Vertical column density in midLatWinter (full atmosphere): {vcd(atm_midLatWinter,'N2O',zMin = 0.0)}\") \n",
    "print(f\"Vertical column density in midLatWinter (above 3km): {vcd(atm_midLatWinter,'N2O',zMin = 3.0)}\") \n",
    "print(f\"Vertical column density in US standard (full atmosphere): {vcd(atm_standard,'N2O',zMin = 0.0)}\") \n",
    "print(f\"Vertical column density in US standard  (above 3km): {vcd(atm_standard,'N2O',zMin = 3.0)}\") "
   ]
  },
  {
   "cell_type": "code",
   "execution_count": null,
   "id": "0549b566-9c92-4d58-aa74-90ee37972bb9",
   "metadata": {
    "tags": []
   },
   "outputs": [],
   "source": [
    "print(f\"Vertical column density in midLatWinter (full atmosphere): {vcd(atm_midLatWinter,'CO2',zMin = 0.0)}\") \n",
    "print(f\"Vertical column density in midLatWinter (above 3km): {vcd(atm_midLatWinter,'CO2',zMin = 3.0)}\") \n",
    "print(f\"Vertical column density in US standard (full atmosphere): {vcd(atm_standard,'CO2',zMin = 0.0)}\") \n",
    "print(f\"Vertical column density in US standard  (above 3km): {vcd(atm_standard,'CO2',zMin = 3.0)}\") "
   ]
  },
  {
   "cell_type": "code",
   "execution_count": null,
   "id": "d08af318-aa6f-49e4-9417-73611dc1d943",
   "metadata": {
    "tags": []
   },
   "outputs": [],
   "source": [
    "print(' Column Mixing Ratios: ')\n",
    "for mol in main_mol: \n",
    "    print(mol,': ',cmr(atm_standard,mol),' ',cmr(atm_midLatWinter,mol))"
   ]
  },
  {
   "cell_type": "markdown",
   "id": "16d124c7-4b7d-42a7-b985-bc98488c829e",
   "metadata": {
    "tags": []
   },
   "source": [
    "###  Calculate precipitable water\n",
    "* mass density of water is ~ 0.9998 g/cm**3\n",
    "* average molar mass of water is 18.01528 g/mol\n",
    "* Na = 6.022e23"
   ]
  },
  {
   "cell_type": "code",
   "execution_count": null,
   "id": "868dd613-a9d4-4690-9263-e6b19d6d65ac",
   "metadata": {
    "tags": []
   },
   "outputs": [],
   "source": [
    "# V = rho * h * Na / M \n",
    "rho = 0.9998  # g/cm**3\n",
    "Na = 6.022e23 # molec / mole \n",
    "M = 18.01528 # g / mole \n",
    "V = vcd(atm_midLatWinter,'H2O',zMin = 0.0)\n",
    "print(V)\n",
    "h = V /rho/Na * M * 10  ## millimeters\n",
    "print(h,' millimeters PWV [midLatWinter]')\n",
    "V = vcd(atm_standard,'H2O',zMin = 0.0)\n",
    "h = V /rho/Na * M * 10  ## millimeters\n",
    "print(h,' millimeters PWV [standard]')"
   ]
  },
  {
   "cell_type": "markdown",
   "id": "c4390fde-ebb3-4148-9585-88c1593708cd",
   "metadata": {},
   "source": [
    "## Load Line List"
   ]
  },
  {
   "cell_type": "code",
   "execution_count": null,
   "id": "c9fd84d2-d512-46cc-a767-3a828318aeb1",
   "metadata": {
    "tags": []
   },
   "outputs": [],
   "source": [
    "dictOfLineLists = higstract('./HITRAN/1430_Main_plus4/65710b71.par',(6979,7001),molecule = 'main')"
   ]
  },
  {
   "cell_type": "code",
   "execution_count": null,
   "id": "6f53b762-4e30-4e18-97a4-182abdd3bf27",
   "metadata": {
    "tags": []
   },
   "outputs": [],
   "source": [
    "vac2air(np.array([1e7/6979,1e7/7001]))"
   ]
  },
  {
   "cell_type": "code",
   "execution_count": null,
   "id": "253e1619-e2fa-442c-9e03-a56749d012f0",
   "metadata": {
    "tags": []
   },
   "outputs": [],
   "source": [
    "for k in dictOfLineLists.keys(): \n",
    "    print(k,' ',dictOfLineLists[k]['v'].min(),dictOfLineLists[k]['v'].max(),len(dictOfLineLists[k]))\n",
    "    wvair = vac2air((1e7/dictOfLineLists[k]['v'])*10)/10.\n",
    "    strength = dictOfLineLists[k]['S']\n",
    "    smax = np.flip(np.argsort(strength))\n",
    "    for ll in range(3): \n",
    "        print(' --- ',ll,' ',dictOfLineLists[k]['v'][smax[ll]],wvair[smax[ll]],strength[smax[ll]])\n",
    "    print(wvair[np.argmax(dictOfLineLists[k]['S'])])"
   ]
  },
  {
   "cell_type": "code",
   "execution_count": null,
   "id": "6d165a82-20b3-4f94-96aa-2b9ff4eb3d3a",
   "metadata": {
    "tags": []
   },
   "outputs": [],
   "source": [
    "#from matplotlib import rc\n",
    "#rc('font',**{'family':'sans-serif','sans-serif':['Helvetica']})\n",
    "#rc('font',**{'family':'serif','serif':['Times']})\n",
    "#rc('text', usetex=False)\n",
    "plt.rcParams['font.sans-serif'] = \"Comic Sans MS\"\n",
    "plt.rcParams['font.family'] = \"serif\""
   ]
  },
  {
   "cell_type": "code",
   "execution_count": null,
   "id": "551a249a-def6-4cd9-a511-e434a31554fb",
   "metadata": {
    "tags": []
   },
   "outputs": [],
   "source": [
    "plt.figure(figsize = (6,4))\n",
    "plt.bar(dictOfLineLists['CO2']['v'],dictOfLineLists['CO2']['S'],width = 0.01,label = 'CO2')\n",
    "plt.yscale('log')\n",
    "plt.legend()\n",
    "plt.ylabel('Strength S [cm^-1 / (molec cm^-2)]')\n",
    "plt.xlabel('Wavenumber [cm^-1]')\n",
    "plt.tight_layout()"
   ]
  },
  {
   "cell_type": "code",
   "execution_count": null,
   "id": "91b4ad27-3b24-4d33-bd29-6f0062f3f0fa",
   "metadata": {
    "tags": []
   },
   "outputs": [],
   "source": [
    "plt.figure(figsize = (6,4))\n",
    "plt.bar(1e7/dictOfLineLists['H2O']['v'],dictOfLineLists['H2O']['S'],width = 0.01,label = 'H2O')\n",
    "plt.bar(1e7/dictOfLineLists['CO2']['v'],dictOfLineLists['CO2']['S'],width = 0.01,label = 'CO2')\n",
    "plt.bar(1e7/dictOfLineLists['O3']['v'],dictOfLineLists['O3']['S'],width = 0.01,label = 'O3')\n",
    "plt.bar(1e7/dictOfLineLists['CH4']['v'],dictOfLineLists['CH4']['S'],width = 0.01,label = 'CH4',alpha =0.3)\n",
    "#plt.bar(1e7/dictOfLineLists['NH3']['v'],dictOfLineLists['NH3']['S'],width = 0.01,label = 'NH3',alpha =1,color = 'black')\n",
    "plt.yscale('log')\n",
    "plt.legend()\n",
    "plt.ylabel('Strength S [cm^-1 / (molec cm^-2)]')\n",
    "plt.xlabel('Wavelength [nm]')\n",
    "plt.tight_layout()"
   ]
  },
  {
   "cell_type": "code",
   "execution_count": null,
   "id": "9a5c7dca-c85e-465a-9a1d-ac334187488d",
   "metadata": {
    "tags": []
   },
   "outputs": [],
   "source": [
    "plt.figure()\n",
    "atlas(dictOfLineLists['H2O'],yType = 'S')\n",
    "atlas(dictOfLineLists['CO2'],yType = 'S')\n",
    "plt.tight_layout()"
   ]
  },
  {
   "cell_type": "code",
   "execution_count": null,
   "id": "bce33d37-be24-4d46-a454-79c8c98159b5",
   "metadata": {},
   "outputs": [],
   "source": [
    "atm_standard = atmRead('./py4cats/data/atmos/50/USstandard_main.xy')  ## Ammonia wasn't really that important\n",
    "znew = np.hstack((parseGridSpec('0[0.1]7'),atm_standard['z'][8:]/1e5))\n",
    "atm_standard  = atmRegrid(atm_standard,znew*1e5)\n",
    "atm_standard['CO2'] = atm_standard['CO2'] * 1.92\n",
    "atm_standard['H2O'] = atm_standard['H2O'] * 0.48\n",
    "atmDat = atm_standard"
   ]
  },
  {
   "cell_type": "markdown",
   "id": "5acb9261-7abe-4825-8d86-10c232ac0d08",
   "metadata": {},
   "source": [
    "## Get absorption cross sections"
   ]
  },
  {
   "cell_type": "code",
   "execution_count": null,
   "id": "6732be4c-55d4-4666-8d8b-02f0c1c96cd8",
   "metadata": {
    "scrolled": true,
    "tags": []
   },
   "outputs": [],
   "source": [
    "xssDict = lbl2xs(dictOfLineLists, atmDat['p'], atmDat['T'],(6979,7001))"
   ]
  },
  {
   "cell_type": "markdown",
   "id": "3bac6c38-777b-445d-9a52-e5c580f795a9",
   "metadata": {
    "tags": []
   },
   "source": [
    "## Absorption coefficients "
   ]
  },
  {
   "cell_type": "code",
   "execution_count": null,
   "id": "62881893-aa6f-45c5-b652-015e42e90b19",
   "metadata": {
    "scrolled": true,
    "tags": []
   },
   "outputs": [],
   "source": [
    "absCoList = xs2ac(atmDat, xssDict) "
   ]
  },
  {
   "cell_type": "code",
   "execution_count": null,
   "id": "6827c6b6-ec15-43b4-9135-7e7b222bef6f",
   "metadata": {
    "tags": []
   },
   "outputs": [],
   "source": [
    "absCoList[0].info()"
   ]
  },
  {
   "cell_type": "code",
   "execution_count": null,
   "id": "da4fbf60-d0bf-43aa-bd52-945e8f8aff90",
   "metadata": {
    "tags": []
   },
   "outputs": [],
   "source": [
    "plt.figure(figsize = (8,4))\n",
    "xUnit='1/cm'\n",
    "plt.ylabel(r'absorption coefficient  $\\alpha \\rm\\,[1/cm]$')\n",
    "plt.xlabel(r'wavenumber $\\nu \\rm\\,[cm^{-1}]$')\n",
    "print(len(absCoList))\n",
    "for n in range(0,len(absCoList),10): \n",
    "    plt.plot(absCoList[n].grid(),absCoList[n],label = str(np.round(atmDat['z'][n]/1e5,2)) + ' km')\n",
    "plt.yscale('log')\n",
    "plt.legend(ncol = 3)\n",
    "plt.tight_layout()"
   ]
  },
  {
   "cell_type": "markdown",
   "id": "1a6ca673-748f-4b7b-817f-3b77332753d9",
   "metadata": {
    "tags": []
   },
   "source": [
    "## Optical Depth "
   ]
  },
  {
   "cell_type": "code",
   "execution_count": null,
   "id": "eb52cbf6-24dc-4a07-a3fc-535435ecbf4b",
   "metadata": {
    "scrolled": true,
    "tags": []
   },
   "outputs": [],
   "source": [
    "## change the airmass for a slant geometry \n",
    "dodList = ac2dod(absCoList)\n",
    "airmass = 1. ## 1/np.cos(zenith_angle)  == 2 @ 60 deg \n",
    "for n in range(len(dodList)): \n",
    "    dodList[n] = dodList[n]*airmass  ## airmass"
   ]
  },
  {
   "cell_type": "code",
   "execution_count": null,
   "id": "3ac0bc74-3f09-49ef-96a3-4eb88f9286d5",
   "metadata": {
    "tags": []
   },
   "outputs": [],
   "source": [
    "codList = dod2cod(dodList,True)  ## cummulative od "
   ]
  },
  {
   "cell_type": "code",
   "execution_count": null,
   "id": "03895adc-6dd1-4fd1-a025-2960b7bc74f4",
   "metadata": {
    "scrolled": true,
    "tags": []
   },
   "outputs": [],
   "source": [
    "tod = dod2tod(dodList)  ## total od "
   ]
  },
  {
   "cell_type": "code",
   "execution_count": null,
   "id": "b9693666-e7c9-4a96-a0e2-0fc3d4262179",
   "metadata": {
    "tags": []
   },
   "outputs": [],
   "source": [
    "print(len(codList))"
   ]
  },
  {
   "cell_type": "code",
   "execution_count": null,
   "id": "2f1c3cdd-c0e3-451a-a128-76dab1760901",
   "metadata": {
    "tags": []
   },
   "outputs": [],
   "source": [
    "plt.figure(figsize = (8,3))\n",
    "\n",
    "for n in 80,70,50,30,: \n",
    "    plt.plot(1e7/codList[n].grid(),np.exp(-codList[n]),lw = 0.8,label = str(np.round(atmDat['z'][n]/1e5,2)) + ' km')\n",
    "\n",
    "plt.legend(loc = 'upper left',ncol = 4)\n",
    "plt.ylim(0.,1.2)\n",
    "plt.title('Transmission At Given Heights')\n",
    "plt.tight_layout()"
   ]
  },
  {
   "cell_type": "markdown",
   "id": "c56b9319-7a0a-4850-8891-af18d0d9539d",
   "metadata": {
    "tags": []
   },
   "source": [
    "## Do the above for different molecules "
   ]
  },
  {
   "cell_type": "code",
   "execution_count": null,
   "id": "4178a6fb-3d26-43f4-aba2-626194f7bbdf",
   "metadata": {
    "tags": []
   },
   "outputs": [],
   "source": [
    "atm_standard = atmRead('./py4cats/data/atmos/50/USstandard_main.xy')  ## Ammonia wasn't really that important\n",
    "znew = np.hstack((parseGridSpec('0[0.1]7'),atm_standard['z'][8:]/1e5))\n",
    "atm_standard  = atmRegrid(atm_standard,znew*1e5)\n",
    "atm_standard['CO2'] = atm_standard['CO2'] * 1.26  ## scaled to 11 Dec 2023 -  417 ppm \n",
    "atm_standard['H2O'] = atm_standard['H2O'] \n",
    "atmDat = atm_standard"
   ]
  },
  {
   "cell_type": "code",
   "execution_count": null,
   "id": "f3a29ef3-e7f0-4f13-ab0c-bda7816ab418",
   "metadata": {
    "tags": []
   },
   "outputs": [],
   "source": [
    "print(f\"Vertical column density in US standard  (above 3km): {cmr(atm_standard,'H2O',zMin = .0)}\") \n",
    "print(f\"Vertical column density in US standard  (above 3km): {cmr(atm_standard,'CO2',zMin = .0)}\") "
   ]
  },
  {
   "cell_type": "code",
   "execution_count": null,
   "id": "c2a2569e-485d-47b6-8951-9ac968489b3e",
   "metadata": {
    "tags": []
   },
   "outputs": [],
   "source": [
    "V = vcd(atm_standard,'H2O',zMin = 0.0)\n",
    "h = V /rho/Na * M * 10  ## millimeters\n",
    "print(h,' millimeters PWV [standard]')"
   ]
  },
  {
   "cell_type": "code",
   "execution_count": null,
   "id": "d70a7d71-be17-4054-b201-704800bf72ff",
   "metadata": {
    "tags": []
   },
   "outputs": [],
   "source": [
    "main_mol"
   ]
  },
  {
   "cell_type": "code",
   "execution_count": null,
   "id": "c333e61a-c56b-40cc-855e-b29e9673986b",
   "metadata": {
    "scrolled": true,
    "tags": []
   },
   "outputs": [],
   "source": [
    "absCoList = xs2ac(atmDat, xssDict)    ## recalculate for changes in molecular densities (xssDict ar the cross-sections for different p and T \n",
    "dodList = ac2dod(absCoList)\n",
    "codList_all = dod2cod(dodList,True)  ## cummulative od "
   ]
  },
  {
   "cell_type": "code",
   "execution_count": null,
   "id": "0b09867d-bb43-453a-98de-665f8b6101ec",
   "metadata": {
    "tags": []
   },
   "outputs": [],
   "source": [
    "airmass = 1.5 ## 1/np.cos(np.deg2rad(45.)) ## 1/np.cos(zenith_angle)  == 2 @ 60 deg , 4 @ 75. \n",
    "print(airmass)\n",
    "for n in range(len(dodList)): \n",
    "    dodList[n] = dodList[n]*airmass  ## airmass\n",
    "codList_all_airmass = dod2cod(dodList,True)  ## cummulative od "
   ]
  },
  {
   "cell_type": "code",
   "execution_count": null,
   "id": "1a19bd42-10ea-440f-af6a-d1d002287f67",
   "metadata": {
    "scrolled": true,
    "tags": []
   },
   "outputs": [],
   "source": [
    "cods = []\n",
    "cods_mol = []\n",
    "cods_airmass = []\n",
    "\n",
    "airmass = 1.5 ## 1/np.cos(zenith_angle)  == 2 @ 60 deg , 4 @ 75. \n",
    "print(airmass)\n",
    "\n",
    "for mol in main_mol: \n",
    "    print(mol)\n",
    "    try: \n",
    "        absCoList = xs2ac(atmDat, xssDict[mol])    ## absorption coefficients for a single molecule \n",
    "        dodList = ac2dod(absCoList)\n",
    "        codList = dod2cod(dodList,True)  ## cummulative od \n",
    "        cods_mol.append(mol)\n",
    "        cods.append(codList)\n",
    "        \n",
    "        for n in range(len(dodList)): \n",
    "            dodList[n] = dodList[n]*airmass  ## airmass\n",
    "            \n",
    "        codList = dod2cod(dodList,True)  ## cummulative od \n",
    "        cods_airmass.append(codList)\n",
    "\n",
    "    except:\n",
    "        print('failed')        "
   ]
  },
  {
   "cell_type": "code",
   "execution_count": null,
   "id": "9eaa0fe6-1591-4ca6-bc14-ea167d35e753",
   "metadata": {
    "tags": []
   },
   "outputs": [],
   "source": [
    "len(cods),len(cods_airmass),len(cods_mol),cods_mol"
   ]
  },
  {
   "cell_type": "code",
   "execution_count": null,
   "id": "e2f86866-dcb6-40c6-8516-e8d380f36ddc",
   "metadata": {
    "tags": []
   },
   "outputs": [],
   "source": [
    "main_mol"
   ]
  },
  {
   "cell_type": "markdown",
   "id": "280e811a-538f-4a11-846e-a4ac28e62df9",
   "metadata": {},
   "source": [
    "## Load the Pseudo solar spectra"
   ]
  },
  {
   "cell_type": "code",
   "execution_count": null,
   "id": "9249de50-2e41-4367-8407-e7908062e2fa",
   "metadata": {},
   "outputs": [],
   "source": [
    "# https://mark4sun.jpl.nasa.gov/toon/solar/solar_spectrum.html\n",
    "dc = np.loadtxt('../HITRAN_LineFits/solar_merged_20200720_600_33300_000.out',skiprows =3)  ## disk center -- 000\n",
    "dcwv = vac2air(1e7/dc[:,0]*10)/10.\n",
    "dcsp = dc[:,1]\n",
    "ww = (dcwv >1427.5)*(dcwv < 1432)\n",
    "dcwv = dcwv[ww][::-1]\n",
    "dcsp = dcsp[ww][::-1]\n",
    "\n",
    "# https://mark4sun.jpl.nasa.gov/toon/solar/solar_spectrum.html\n",
    "di = np.loadtxt('../HITRAN_LineFits/solar_merged_20200720_600_33300_100.out',skiprows =3)  ## disk integrated -- 100\n",
    "diwv = vac2air(1e7/di[:,0]*10)/10.\n",
    "disp = di[:,1]\n",
    "ww = (diwv >1427.5)*(diwv < 1432)\n",
    "diwv = diwv[ww][::-1]\n",
    "disp = disp[ww][::-1]"
   ]
  },
  {
   "cell_type": "markdown",
   "id": "839ddd00-c629-4e97-9b26-9986645a3293",
   "metadata": {},
   "source": [
    "## Read the FTS atlas for plotting"
   ]
  },
  {
   "cell_type": "code",
   "execution_count": null,
   "id": "1e38e2e9-a975-48c9-acd1-7467b94d11e9",
   "metadata": {
    "tags": []
   },
   "outputs": [],
   "source": [
    "from  scipy.io import readsav\n",
    "idld = readsav('/home/tschad/cnSAT/combined_fts_atlases_2898A_54097A.sav')\n",
    "ftswv    = np.copy(idld['lambda_angstrom']) /10.   ## nm \n",
    "ftsatm   = np.copy(idld['atm_absorption'])\n",
    "ftscor   = np.copy(idld['corrected_flux'])\n",
    "ftsobs   = np.copy(idld['observed_flux'])"
   ]
  },
  {
   "cell_type": "code",
   "execution_count": null,
   "id": "b9143fcc-acb5-47c7-9172-b3f0d359e5c2",
   "metadata": {
    "tags": []
   },
   "outputs": [],
   "source": [
    "fdat = np.loadtxt('./KURUCZ/data/solar_flux/kurudz_full.dat',skiprows=11)  ## KURUCZ synthesis\n",
    "fwv,fsp = fdat[:,0],fdat[:,1]\n",
    "fwv = vac2air(fwv*10)/10.\n",
    "fwv.shape"
   ]
  },
  {
   "cell_type": "code",
   "execution_count": null,
   "id": "2c8d0adb-c6b7-4b1b-a6af-6006d3bb0322",
   "metadata": {
    "tags": []
   },
   "outputs": [],
   "source": [
    "wh = np.argmin(np.abs(atmDat['z'] - 3.e5))\n",
    "#wh = np.argmin(np.abs(atmDat['z'] - 2.e5))  ## ~ kitt peak\n",
    "print(wh)"
   ]
  },
  {
   "cell_type": "code",
   "execution_count": null,
   "id": "5dfd506d-f4ac-47d0-9361-29dff4e488b4",
   "metadata": {
    "tags": []
   },
   "outputs": [],
   "source": [
    "wv = vac2air(1e7/codList_all[0].grid()*10.)/10."
   ]
  },
  {
   "cell_type": "code",
   "execution_count": null,
   "id": "37027a29-4e7f-49fa-b13f-af39ffbbcabc",
   "metadata": {
    "tags": []
   },
   "outputs": [],
   "source": [
    "from matplotlib import rc\n",
    "rc('font',**{'family':'sans-serif','sans-serif':['Helvetica']})\n",
    "#rc('font',**{'family':'serif','serif':['Times']})\n",
    "rc('text', usetex=True)"
   ]
  },
  {
   "cell_type": "code",
   "execution_count": null,
   "id": "5de1d515-1e8f-4b8a-b780-13178f1c9af8",
   "metadata": {},
   "outputs": [],
   "source": [
    "len(atmDat['z'])"
   ]
  },
  {
   "cell_type": "code",
   "execution_count": null,
   "id": "ca9c70c3-4234-43df-b852-0e62fa9f7dd2",
   "metadata": {
    "tags": []
   },
   "outputs": [],
   "source": [
    "plt.figure(figsize = (8,3))\n",
    "\n",
    "for n in 110,80,70,50,30,: \n",
    "    plt.plot(vac2air(1e7/codList_all[n].grid()),np.exp(-codList_all[n]),lw = 0.8,label = str(np.round(atmDat['z'][n]/1e5,2)) + ' km')\n",
    "\n",
    "plt.legend(loc = 'upper left',ncol = 4)\n",
    "plt.ylim(0.,1.2)\n",
    "plt.title('Transmission At Given Heights')\n",
    "plt.tight_layout()\n",
    "\n",
    "\n",
    "# ---  0   1432.4364550120997 1.071e-21\n",
    "# ---  1   1431.1998403679772 8.511e-22\n",
    "# ---  2   1429.9476130140886 6.637e-22\n",
    "plt.plot([ 1429.9476130140886, 1429.9476130140886],[0,1],ls = 'dashed',color = 'black',lw = 2)\n",
    "plt.plot([ 1431.1998403679772, 1431.1998403679772],[0,1],ls = 'dashed',color = 'black',lw = 2)\n",
    "#plt.plot([ 1432.4364550120997, 1432.4364550120997 ],[0,1],ls = 'dashed',color = 'black',lw = 2)\n"
   ]
  },
  {
   "cell_type": "code",
   "execution_count": null,
   "id": "7e486ca4-815c-4cc9-9ce6-874ede4fd5e7",
   "metadata": {},
   "outputs": [],
   "source": []
  },
  {
   "cell_type": "code",
   "execution_count": null,
   "id": "d9fc37f7-3872-42b6-8eee-7da9372055d5",
   "metadata": {},
   "outputs": [],
   "source": [
    "fig,ax = plt.subplots(5,1,figsize = (8,6),sharex=True)\n",
    "ax = ax.flatten()\n",
    "\n",
    "for n in range(len(cods)): \n",
    "    wv = vac2air(1e7/cods[n][wh].grid()*10.)/10.\n",
    "    ax[n].plot(wv,np.exp(-cods[n][wh]),'b',lw = 0.85,label = cods_mol[n])\n",
    "    ax[n].legend()\n",
    "    ax[n].get_yaxis().get_major_formatter().set_useOffset(False)\n",
    "fig.tight_layout()\n",
    "\n",
    "k = 'H2O'\n",
    "print(k,' ',dictOfLineLists[k]['v'].min(),dictOfLineLists[k]['v'].max(),len(dictOfLineLists[k]))\n",
    "wvair = vac2air((1e7/dictOfLineLists[k]['v'])*10)/10.\n",
    "strength = dictOfLineLists[k]['S']\n",
    "smax = np.flip(np.argsort(strength))\n",
    "for ll in range(15): \n",
    "    print(' --- ',ll,' ',wvair[smax[ll]],strength[smax[ll]])\n",
    "    ax[0].plot(np.zeros(2) + wvair[smax[ll]], [0,1])"
   ]
  },
  {
   "cell_type": "code",
   "execution_count": null,
   "id": "eb6253aa-a1f6-42e1-946e-872c61ce162d",
   "metadata": {},
   "outputs": [],
   "source": []
  },
  {
   "cell_type": "code",
   "execution_count": null,
   "id": "8a1ca339-3d96-478e-a1fc-d18a8ae7749a",
   "metadata": {},
   "outputs": [],
   "source": [
    "plt.rcParams['xtick.labelsize'] = 13\n",
    "plt.rcParams['ytick.labelsize'] = 13\n",
    "\n",
    "fig,ax = plt.subplots(4,1,figsize = (8.,8.),sharex=True,sharey=False,height_ratios = [1,1,1,1.7])\n",
    "ax = ax.flatten()\n",
    "\n",
    "n = 0\n",
    "wv = vac2air(1e7/codList_all[0].grid()*10.)/10.\n",
    "ax[0].set_xlim(wv.min(),wv.max())\n",
    "\n",
    "aa = 1.\n",
    "th = 1.\n",
    "for hh in 90,72,50,30,10,: \n",
    "    ax[n].plot(wv,np.exp(-codList_all[hh]),label = str(np.round(atmDat['z'][hh]/1e5,2)) + ' km',lw = th,color = 'blue',alpha = aa)\n",
    "    th -= 0.2\n",
    "    aa -= 0.05\n",
    "\n",
    "#ax[n].plot(wv,np.exp(-codList_all[wh]),'b',label = '1 airmass',lw = 0.85)\n",
    "#ax[n].plot(wv,np.exp(-codList_all_airmass[wh]),'k',lw = 0.85,linestyle = 'dashed',label = '1.5 airmass')\n",
    "#ax[n].grid(lw = 0.5,linestyle = 'dotted',color = 'gray')\n",
    "ax[n].set_title('(a) US Standard Atmosphere Model | Transmission Above Select Altitudes (7 main molecules)',fontsize = 12)\n",
    "ax[n].set_yticks([0,0.25,0.5,0.75,1.0])\n",
    "ax[n].set_yticklabels(['0',' ',' ',' ','1'])\n",
    "ax[n].set_ylim(-0.1,1.04)\n",
    "\n",
    "legend = ax[n].legend(ncol = 1,fontsize = 8,loc = 'lower left')\n",
    "legend.get_frame().set_alpha(1)\n",
    "legend.get_frame().set_facecolor('white')\n",
    "legend.get_frame().set_edgecolor('black')\n",
    "    \n",
    "labels = r'(b) US Standard Atmosphere Model | Transmission Above Select Altitudes  (H$_{2}$O absorption only)',r'(c) US Standard Atmosphere Model | Transmission Above Select Altitudes (CO$_{2}$ absorption only)',\n",
    "for n in range(2):     \n",
    "    wv = vac2air(1e7/cods[n][0].grid()*10.)/10.\n",
    "    aa = 1.\n",
    "    th = 0.9\n",
    "    for hh in 90,72,50,30,10,: \n",
    "        if n == 0:         ax[n+1].plot(wv,np.exp(-cods[n][hh]),label = str(np.round(atmDat['z'][hh]/1e5,2)) + ' km',lw = th,color = 'red',alpha = aa)\n",
    "        if n == 1:         \n",
    "            if hh == 50: continue \n",
    "            if hh == 30: continue \n",
    "            ax[n+1].plot(wv,np.exp(-cods[n][hh]),label = str(np.round(atmDat['z'][hh]/1e5,2)) + ' km',lw = th,color = 'green',alpha = aa)\n",
    "        th -= 0.15\n",
    "        aa -= 0.05\n",
    "    \n",
    "    ax[n+1].set_title(labels[n],fontsize = 12)\n",
    "    ax[n+1].set_ylim(-0.1,1.04)\n",
    "    ax[n+1].set_yticks([0,0.25,0.5,0.75,1.0])\n",
    "    ax[n+1].set_yticklabels(['0',' ',' ',' ','1'])\n",
    "    legend = ax[n+1].legend(ncol = 1,fontsize = 8,loc = 'lower left')\n",
    "    legend.get_frame().set_alpha(1)\n",
    "    legend.get_frame().set_facecolor('white')\n",
    "    legend.get_frame().set_edgecolor('black')\n",
    "\n",
    "ax[-1].set_xlabel('Wavelength (in air) [nm]',fontsize = 14)\n",
    "\n",
    "n = 0\n",
    "wv = vac2air(1e7/codList_all[wh].grid()*10.)/10.\n",
    "## kurucz reference synthetic\n",
    "ax[3].plot(dcwv,dcsp,label = 'Solar Pseudo-Transmittance Spectrum',lw = 0.75,color = 'red')\n",
    "ax[3].plot(fwv[(fwv>1426)*(fwv<1434)],fsp[(fwv>1426)*(fwv<1434)] /fsp[(fwv>1426)*(fwv<1434)].max() ,label = 'Kurucz Synthetic Solar Spectrum',lw = 0.75,color = 'red',ls = 'dashed')\n",
    "wwv = (ftswv>1426)*(ftswv<1434)\n",
    "ax[3].set_title('(d) Modeled telluric transmission compared to solar spectrum and Si X coronal emission',fontsize=12)\n",
    "\n",
    "## add coronal line \n",
    "ax[3].fill_between(wv,0.4*np.exp(-(wv-1430.078)**2/ (2*0.11**2)),label = 'Si X Coronal Line\\n(no scattered light or absorption)',color = 'lightgreen',edgecolor = 'lightgreen',linewidth = 0)\n",
    "ax[3].plot(wv,0.4*np.exp(-(wv-1430.078)**2/ (2*0.11**2)),color = 'black',ls = 'dashed',lw = 0.8)\n",
    "\n",
    "sspec = np.interp(wv,fwv[(fwv>1426)*(fwv<1434)],fsp[(fwv>1426)*(fwv<1434)] /fsp[(fwv>1426)*(fwv<1434)].max())\n",
    "wvsh = 50./3e5 * 1430.1024\n",
    "ax[3].plot(wv,np.exp(-codList_all[wh])/np.max(np.exp(-codList_all[wh])),'b',label = 'Telluric Transmission for 1 airmass (7 main molecules)',lw = 0.9)\n",
    "\n",
    "ax[1].annotate('', xy=( 1429.557, -0.03), xytext=( 1429.557, -0.1),fontsize = 8,verticalalignment = 'center',\n",
    "            arrowprops=dict(facecolor='red',width = 0.5,headwidth = 3,headlength = 2,edgecolor = 'red'))\n",
    "ax[1].annotate('', xy=( 1430.8094, -0.03), xytext=( 1430.8094, -0.1),fontsize = 8,verticalalignment = 'center',\n",
    "            arrowprops=dict(facecolor='red',width = 0.5,headwidth = 3,headlength = 2,edgecolor = 'red'))\n",
    "\n",
    "ax[3].plot(wv,(sspec + 0.4*np.exp(-(wv-1430.1024)**2/ (2*0.11**2))) * np.copy(np.exp(-codList_all[wh])/np.max(np.exp(-codList_all[wh]))),ls = 'solid',\n",
    "           color = 'green',lw = 1.5,label = 'Synthetic Si X Emission with -50, 0, +50 km/s Doppler shifts')  #  -50, 0, and +50 km/s Doppler shifts\n",
    "ax[3].plot(wv,(sspec + 0.4*np.exp(-(wv-1430.1024-wvsh)**2/ (2*0.11**2))) * np.copy(np.exp(-codList_all[wh])/np.max(np.exp(-codList_all[wh]))),ls = 'solid',color = 'green',lw = 1.)\n",
    "ax[3].plot(wv,(sspec + 0.4*np.exp(-(wv-1430.1024+wvsh)**2/ (2*0.11**2))) * np.copy(np.exp(-codList_all[wh])/np.max(np.exp(-codList_all[wh]))),ls = 'solid',color = 'green',lw = 1.)\n",
    "\n",
    "ax[3].plot(wv,np.exp(-codList_all[wh])/np.max(np.exp(-codList_all[wh])),'b',lw = 1.2)\n",
    "\n",
    "legend = ax[3].legend(ncol=2,fontsize = 9,loc = 'upper left',frameon = False)\n",
    "legend.get_frame().set_edgecolor('black')\n",
    "\n",
    "ax[3].set_ylim(-0.1,2.)\n",
    "ax[3].set_yticks([0,0.25,0.5,0.75,1.0,1.25,1.5,1.75])\n",
    "ax[3].set_yticklabels(['0',' ',' ',' ','1',' ',' ',' '])\n",
    "\n",
    "for n in range(4): \n",
    "    for yy in 0,0.25,0.5,0.75,1,: \n",
    "        ax[n].plot(wv,wv*0+yy,ls = 'dotted',lw =0.5,color = 'gray')\n",
    "    for xx in 1429,1429.5,1430.,1430.5,1431.,1431.5,1432.,:\n",
    "        ax[n].plot([xx,xx],[0,1],ls = 'dotted',lw =0.5,color = 'gray')\n",
    "\n",
    "ax[0].set_xlim(1428.5,1432.)\n",
    "\n",
    "fig.tight_layout()\n",
    "fig.savefig('./us_standard_telluric_with_solar_coronal.png',dpi = 1200)\n",
    "fig.savefig('./us_standard_telluric_with_solar_coronal.pdf',dpi = 1200)"
   ]
  },
  {
   "cell_type": "code",
   "execution_count": null,
   "id": "ea2a52e7-807e-486c-895d-826bc5ec7c66",
   "metadata": {},
   "outputs": [],
   "source": [
    "plt.figure()\n",
    "plt.plot(wv,0.3*np.exp(-(wv-1430.078+wvsh)**2/ (2*0.11**2)) *np.copy(np.exp(-codList_all[wh-2])/np.max(np.exp(-codList_all[wh-2]))) ,label = 'Si X Coronal Line',color = 'black',ls = 'dashed',lw = 0.8)\n",
    "plt.plot(wv,0.3*np.exp(-(wv-1430.078+wvsh)**2/ (2*0.11**2)) ,label = 'Si X Coronal Line',color = 'black',ls = 'dashed',lw = 3.8)\n"
   ]
  },
  {
   "cell_type": "code",
   "execution_count": null,
   "id": "86f8c60d-3b15-45a8-abe2-15814b661d7f",
   "metadata": {},
   "outputs": [],
   "source": []
  },
  {
   "cell_type": "code",
   "execution_count": null,
   "id": "13514d75-799a-43bf-aeeb-875d30031f69",
   "metadata": {
    "tags": []
   },
   "outputs": [],
   "source": [
    "np.copy( np.exp(-codList_all[wh-2])/np.max(np.exp(-codList_all[wh-2])) "
   ]
  },
  {
   "cell_type": "code",
   "execution_count": null,
   "id": "cb2b5df4-92ae-44cf-a54e-5b2d2743f39e",
   "metadata": {
    "tags": []
   },
   "outputs": [],
   "source": [
    "tt?"
   ]
  },
  {
   "cell_type": "code",
   "execution_count": null,
   "id": "185875f2-9ac2-4d48-b137-2c810fd17c31",
   "metadata": {
    "tags": []
   },
   "outputs": [],
   "source": [
    "plt.figure(figsize = (9,4))\n",
    "plt.plot(wv,np.exp(-codList_all[wh-2])/np.max(np.exp(-codList_all[wh-2])),'b',label = 'XYZ Model\\n1 airmass (7 main molecules)',lw = 0.85)\n",
    "## kurucz reference synthetic\n",
    "#ax[3].plot(fwv[(fwv>1426)*(fwv<1434)],fsp[(fwv>1426)*(fwv<1434)] /fsp[(fwv>1426)*(fwv<1434)].max() ,label = 'Kurucz Synthetic \\nExtraterrestrial Solar Spectrum',lw = 0.85,color = 'purple',linestyle = 'dashed') \n",
    "wwv = (ftswv>1426)*(ftswv<1434)\n",
    "plt.gca().set_xlim(wv.min(),wv.max())\n",
    "\n",
    "dtmp = np.load('/home/tschad/tmp_fts_1430_low_airmass.npy')\n",
    "dwv = vac2air(10*dtmp[0,:])/10.\n",
    "dsp = dtmp[1,:]\n",
    "\n",
    "ftsobs_int = ndimage.shift(np.interp(wv,dwv,dsp),0)\n",
    "plt.plot(wv,ftsobs_int,label = 'FTS Atlas',lw = 1.,color = 'green')\n",
    "\n",
    "scor = ftsobs_int / np.exp(-codList_all[wh-2])\n",
    "scor = scor / np.nanmedian(scor[(wv>1430)*(wv<1430.2)])\n",
    "scor[ftsobs_int<0.025] = np.nan\n",
    "plt.plot(wv,scor )\n",
    "plt.plot(fwv[(fwv>1426)*(fwv<1434)],fsp[(fwv>1426)*(fwv<1434)] /fsp[(fwv>1426)*(fwv<1434)].max()) \n",
    "plt.ylim(0,2)"
   ]
  },
  {
   "cell_type": "code",
   "execution_count": null,
   "id": "87af71b1-a581-4d4a-9340-e7672968d860",
   "metadata": {},
   "outputs": [],
   "source": []
  },
  {
   "cell_type": "code",
   "execution_count": null,
   "id": "e63bac6f-5a71-4aac-8875-c3e1e7d04c6a",
   "metadata": {
    "tags": []
   },
   "outputs": [],
   "source": [
    "plt.figure(figsize = (14,5))\n",
    "plt.ylim(0.2,1.1)\n",
    "sdat1 = np.loadtxt('/home/tschad/Spectre_MPS_ATLAS_Kurucz_center_LATMOS_Meftah_V1.txt',skiprows=16)\n",
    "smf = np.interp(wv,vac2air(sdat1[:,0]*10)/10.+0.004,sdat1[:,1])\n",
    "smf = smf/smf.max()\n",
    "plt.plot(wv,smf)\n",
    "sdat1 = np.loadtxt('/home/tschad/Spectre_MPS_ATLAS_Vald3_LATMOS_Meftah_V1.txt',skiprows = 16)\n",
    "smf = np.interp(wv,vac2air(sdat1[:,0]*10)/10.+0.004,sdat1[:,1])\n",
    "smf = smf/smf.max()\n",
    "plt.plot(wv,smf) "
   ]
  },
  {
   "cell_type": "code",
   "execution_count": null,
   "id": "0c65c1c5-75d1-4ec1-9249-739b48557a44",
   "metadata": {},
   "outputs": [],
   "source": []
  },
  {
   "cell_type": "code",
   "execution_count": null,
   "id": "ab98d37f-48ec-467b-9a8c-5cd5893d8d0f",
   "metadata": {},
   "outputs": [],
   "source": []
  },
  {
   "cell_type": "code",
   "execution_count": null,
   "id": "b9e538f4-c9d0-43c8-a815-62d1b328ed2d",
   "metadata": {},
   "outputs": [],
   "source": [
    "raise "
   ]
  },
  {
   "cell_type": "code",
   "execution_count": null,
   "id": "37ab3c41-1df9-4aa0-b3b0-19e86f5da1db",
   "metadata": {},
   "outputs": [],
   "source": []
  },
  {
   "cell_type": "code",
   "execution_count": null,
   "id": "5ffb802d-5d19-4958-ae3c-3e5000ae95e1",
   "metadata": {},
   "outputs": [],
   "source": []
  },
  {
   "cell_type": "code",
   "execution_count": null,
   "id": "1c8fb803-c485-4ce5-9baf-bf68dfbb3fac",
   "metadata": {
    "tags": []
   },
   "outputs": [],
   "source": [
    "# https://mark4sun.jpl.nasa.gov/toon/solar/solar_spectrum.html\n",
    "di = np.loadtxt('/home/tschad/solar_merged_20200720_600_33300_000.out',skiprows =3)  ## disk integrated -- 100\n",
    "diwv = vac2air(1e7/di[:,0]*10)/10.\n",
    "disp = di[:,1]\n",
    "wg = (diwv > 1427)*(diwv<1433.)\n",
    "diwv = diwv[wg]\n",
    "disp = disp[wg]"
   ]
  },
  {
   "cell_type": "code",
   "execution_count": null,
   "id": "ad9bd54d-90b3-4944-b2cd-566dc98a2c9e",
   "metadata": {},
   "outputs": [],
   "source": [
    "n = 0\n",
    "wh = 36\n",
    "print(wh) # \n",
    "wv = vac2air(1e7/codList_all[wh].grid()*10.)/10.\n",
    "sm = np.array(np.exp(-codList_all[wh])/np.max(np.exp(-codList_all[wh])))   ## normalized \n",
    "sfts = np.interp(wv,ftswv[wwv],ftsatm[wwv])\n",
    "sftsobs = np.interp(wv,ftswv[wwv],ftsobs[wwv]) / np.max(sfts)\n",
    "sftscor = np.interp(wv,ftswv[wwv],ftscor[wwv]) / np.max(sfts)\n",
    "sfts = sfts / np.max(sfts)"
   ]
  },
  {
   "cell_type": "code",
   "execution_count": null,
   "id": "3a43aa88-a111-42e1-8767-53e9aa228aa1",
   "metadata": {
    "tags": []
   },
   "outputs": [],
   "source": [
    "1e7/6"
   ]
  },
  {
   "cell_type": "code",
   "execution_count": null,
   "id": "70d7580b-2939-435a-87c4-db756aeae5e6",
   "metadata": {
    "tags": []
   },
   "outputs": [],
   "source": [
    "dtmp = np.load('/home/tschad/tmp_fts_1430_low_airmass.npy')"
   ]
  },
  {
   "cell_type": "code",
   "execution_count": null,
   "id": "a2a0a739-2490-40ca-84a3-8a1b916bb0ac",
   "metadata": {
    "tags": []
   },
   "outputs": [],
   "source": [
    "plt.figure(figsize = (10,3))\n",
    "plt.plot(wv,sm) # *np.interp(wv,diwv[::-1],disp[::-1]))\n",
    "#plt.plot(wv,np.interp(wv,diwv[::-1],disp[::-1]))\n",
    "#plt.plot(wv,sfts,label = 'FTS Atlas',lw = 1.,color = 'green')\n",
    "#plt.plot(wv,sftsobs,label = 'FTS Atlas',lw = 1.,color = 'blue')\n",
    "#smf = sm  * ( np.interp(wv,vac2air(sdat[:,0]*10)/10.+0.004,sdat[:,1]/5450.) + 0.3 ) / 1.3  ## VALD\n",
    "#plt.plot(wv,smf)\n",
    "plt.plot(vac2air(10*dtmp[0,:])/10.,dtmp[1,:],color = 'black')\n",
    "plt.xlim(1428.5,1431.)"
   ]
  },
  {
   "cell_type": "code",
   "execution_count": null,
   "id": "b182531f-7bf6-4296-ac36-7295c60a1ac8",
   "metadata": {
    "tags": []
   },
   "outputs": [],
   "source": [
    "plt.figure(figsize = (10,3))\n",
    "plt.plot(wv,sm) # *np.interp(wv,diwv[::-1],disp[::-1]))\n",
    "#plt.plot(wv,np.interp(wv,diwv[::-1],disp[::-1]))\n",
    "#plt.plot(wv,sfts,label = 'FTS Atlas',lw = 1.,color = 'green')\n",
    "#plt.plot(wv,sftsobs,label = 'FTS Atlas',lw = 1.,color = 'blue')\n",
    "#smf = sm  * ( np.interp(wv,vac2air(sdat[:,0]*10)/10.+0.004,sdat[:,1]/5450.) + 0.3 ) / 1.3  ## VALD\n",
    "#plt.plot(wv,smf)\n",
    "#plt.plot(vac2air(10*dtmp[0,:])/10.,dtmp[1,:],color = 'black')\n",
    "lowa = np.interp(wv,vac2air(10*dtmp[0,:])/10.,dtmp[1,:])\n",
    "plt.plot(wv,lowa)\n",
    "plt.xlim(1428.5,1431.)"
   ]
  },
  {
   "cell_type": "code",
   "execution_count": null,
   "id": "20230674-5cc8-4fc5-9689-16285e6f6c19",
   "metadata": {
    "tags": []
   },
   "outputs": [],
   "source": [
    "ndat = np.loadtxt('nist_tab.txt',delimiter='|',dtype='object')\n",
    "nistwv = np.array([float(ln[3]) for ln in ndat])"
   ]
  },
  {
   "cell_type": "code",
   "execution_count": null,
   "id": "e01d695b-f8bd-4010-a28f-78430da1b778",
   "metadata": {
    "tags": []
   },
   "outputs": [],
   "source": [
    "[ln[0] for ln in ndat][0][0:4] == 'Fe I'"
   ]
  },
  {
   "cell_type": "code",
   "execution_count": null,
   "id": "1d108f67-514b-4112-b36d-89dcd6661f27",
   "metadata": {
    "tags": []
   },
   "outputs": [],
   "source": [
    "plt.figure(figsize = (14,5))\n",
    "plt.plot(wv,lowa/sm)\n",
    "plt.ylim(0.2,1.1)\n"
   ]
  },
  {
   "cell_type": "code",
   "execution_count": null,
   "id": "b015f741-97ba-4ab8-8cc2-c72280806332",
   "metadata": {
    "tags": []
   },
   "outputs": [],
   "source": [
    "plt.figure(figsize = (14,5))\n",
    "plt.plot(wv,lowa/sm)\n",
    "plt.ylim(0.2,1.1)\n",
    "sdat1 = np.loadtxt('/home/tschad/Spectre_MPS_ATLAS_Kurucz_center_LATMOS_Meftah_V1.txt',skiprows=16)\n",
    "smf = np.interp(wv,vac2air(sdat1[:,0]*10)/10.+0.004,sdat1[:,1])\n",
    "smf = smf/smf.max()\n",
    "plt.plot(wv,(smf + 0.5)/1.5)\n",
    "sdat1 = np.loadtxt('/home/tschad/Spectre_MPS_ATLAS_Vald3_LATMOS_Meftah_V1.txt',skiprows = 16)\n",
    "smf = np.interp(wv,vac2air(sdat1[:,0]*10)/10.+0.004,sdat1[:,1])\n",
    "smf = smf/smf.max()\n",
    "plt.plot(wv,(smf + 0.5)/1.5,color = 'red')\n",
    "\n",
    "ylim = plt.ylim()\n",
    "plt.autoscale(False)\n",
    "for n in range(len(ndat)): \n",
    "    ww = nistwv[n]\n",
    "    if ndat[n][0][0:4] == 'Fe I':\n",
    "        plt.plot([ww,ww],ylim,color = 'black',ls = 'dashed')"
   ]
  },
  {
   "cell_type": "code",
   "execution_count": null,
   "id": "df3e4e84-3fa8-40d9-ae27-08f6d06044c2",
   "metadata": {},
   "outputs": [],
   "source": []
  },
  {
   "cell_type": "code",
   "execution_count": null,
   "id": "c12ce34d-6c86-44e7-829e-d6d540906581",
   "metadata": {},
   "outputs": [],
   "source": []
  },
  {
   "cell_type": "code",
   "execution_count": null,
   "id": "9adf8768-75c7-4455-940a-7f7f3ae5a3e9",
   "metadata": {
    "tags": []
   },
   "outputs": [],
   "source": [
    "1e7/air2vac(np.array([14295.59,14303.483,14303.825]))"
   ]
  },
  {
   "cell_type": "code",
   "execution_count": null,
   "id": "89850e6e-81b6-411a-9de5-5b1d415e94dd",
   "metadata": {
    "tags": []
   },
   "outputs": [],
   "source": [
    "plt.figure(figsize = (10,3))\n",
    "stmp = np.interp(wv,vac2air(10*dtmp[0,:])/10.,dtmp[1,:])\n",
    "plt.plot(wv,sm) # *np.interp(wv,diwv[::-1],disp[::-1]))\n",
    "#plt.plot(wv,stmp/sm,color = 'black')\n",
    "#plt.plot(vac2air(10*dtmp[0,:])/10.,dtmp[1,:],color = 'black')\n",
    "\n",
    "plt.xlim(1427.5,1431.5)\n",
    "plt.plot(wv,sftscor*1.005)\n",
    "plt.ylim(0.70,1.04)\n",
    "plt.plot(wv,np.interp(wv,diwv[::-1],disp[::-1]))\n",
    "\n",
    "#plt.plot(fwv[(fwv>1426)*(fwv<1434)],fsp[(fwv>1426)*(fwv<1434)] /fsp[(fwv>1426)*(fwv<1434)].max() )\n",
    "\n",
    "plt.plot(vac2air(sdat[:,0]*10)/10.+0.004,sdat[:,1]/5300,color = 'red')\n",
    "plt.plot(vac2air(sdat1[:,0]*10)/10.+0.004,sdat1[:,1]/5300,color = 'black')\n",
    "\n"
   ]
  },
  {
   "cell_type": "code",
   "execution_count": null,
   "id": "9437d105-9168-451f-83e4-4a6696a37f3f",
   "metadata": {
    "tags": []
   },
   "outputs": [],
   "source": [
    "plt.figure()\n",
    "plt.plot(wv,sftsobs/sm)\n",
    "plt.plot(wv,sftscor)\n",
    "plt.ylim(0,2.)"
   ]
  },
  {
   "cell_type": "code",
   "execution_count": null,
   "id": "edfc5f81-717f-41f7-bee7-7f1cebac4bcc",
   "metadata": {
    "tags": []
   },
   "outputs": [],
   "source": [
    "plt.figure()\n",
    "sfts = np.interp(wv,ftswv[wwv],ftscor[wwv])\n",
    "plt.plot(wv,sfts) \n",
    "sfts = np.interp(wv,ftswv[wwv],ftsatm[wwv])\n",
    "plt.plot(wv,sfts) \n",
    "\n",
    "#plt.plot(wv,np.interp(wv,diwv[::-1],disp[::-1]))\n",
    "#plt.plot(fwv[(fwv>1426)*(fwv<1434)],fsp[(fwv>1426)*(fwv<1434)] /fsp[(fwv>1426)*(fwv<1434)].max() )\n",
    "plt.xlim(1429.4,1430.8)\n",
    "plt.ylim(0.9,1.03)"
   ]
  },
  {
   "cell_type": "code",
   "execution_count": null,
   "id": "c661befa-d45a-4528-867d-4f04ca2962a1",
   "metadata": {
    "tags": []
   },
   "outputs": [],
   "source": [
    "14300./0.02"
   ]
  },
  {
   "cell_type": "code",
   "execution_count": null,
   "id": "da9bbc93-1ba7-436d-9bc5-31b4e2e09f72",
   "metadata": {
    "tags": []
   },
   "outputs": [],
   "source": [
    "cnwv = np.load('../siX_limb_data_reduced_spec_axis.npy')\n",
    "data_beams = np.load('../siX_limb_data_reduced.npy')\n",
    "gain1_beams = np.load('../siX_gain1_beams.npy')  ## NORTH POLE FLAT "
   ]
  },
  {
   "cell_type": "code",
   "execution_count": null,
   "id": "6376776c-3ffa-4508-9179-3dc58d6e4e1a",
   "metadata": {
    "tags": []
   },
   "outputs": [],
   "source": [
    "data_beams.shape"
   ]
  },
  {
   "cell_type": "code",
   "execution_count": null,
   "id": "c5cae10b-1de9-41a2-b3ec-1cdebb91fe5d",
   "metadata": {
    "tags": []
   },
   "outputs": [],
   "source": [
    "yp = 1170\n",
    "#mflat = np.nanmedian(data_beams[155,0,(yp-4):(yp+4),:],axis=0)\n",
    "mflat = np.nanmedian(gain1_beams[0,(yp-24):(yp+24),:],axis=0)\n",
    "mflat -= np.min(mflat[540:580])  ## straylight subtraction \n",
    "mflat = mflat / np.max(mflat[650:750])"
   ]
  },
  {
   "cell_type": "code",
   "execution_count": null,
   "id": "7f125b4b-7ec3-4495-b380-789afbcb37cc",
   "metadata": {
    "tags": []
   },
   "outputs": [],
   "source": [
    "## Gaussian convolution of the FTS atlast\n",
    "Rpow = 50000.  ## estimate \n",
    "fwhm_wv = cnwv.mean()/Rpow\n",
    "sigm_wv = fwhm_wv / (2.*np.sqrt(2.*np.log(2)))  \n",
    "dwv = cnwv[0]-cnwv[1]\n",
    "kern_pix = sigm_wv / np.abs(dwv)\n",
    "\n",
    "wh = 30\n",
    "wv = vac2air(1e7/codList_all_airmass[wh].grid()*10.)/10.\n",
    "sm = np.array(np.exp(-codList_all_airmass[wh])/np.max(np.exp(-codList_all_airmass[wh])))\n",
    "modS = sm *np.interp(wv-0.0,diwv[::-1],disp[::-1]) \n",
    "\n",
    "Rpow = 50000.  ## estimate \n",
    "fwhm_wv = wv.mean()/Rpow\n",
    "print(wv.mean())\n",
    "sigm_wv = fwhm_wv / (2.*np.sqrt(2.*np.log(2)))  \n",
    "dwv = wv[0]-wv[1]\n",
    "kern_pix = sigm_wv / np.abs(dwv)\n",
    "\n",
    "modS = ndimage.gaussian_filter1d(modS[::-1], kern_pix)[::-1]\n",
    "modS = np.interp(cnwv+0.00,wv[::-1],modS[::-1])\n",
    "modS = modS/np.nanmax(modS[650:750])\n",
    "modS = (modS - 0.0)/(1.)\n",
    "\n",
    "modSM = ndimage.gaussian_filter1d(sm[::-1], kern_pix)[::-1]\n",
    "modSM = np.interp(cnwv+0.00,wv[::-1],modSM[::-1])"
   ]
  },
  {
   "cell_type": "code",
   "execution_count": null,
   "id": "0f96d65c-3e52-46ee-b01e-c644eb358fe1",
   "metadata": {
    "tags": []
   },
   "outputs": [],
   "source": [
    "print(atm_midLatWinter['z'][wh])"
   ]
  },
  {
   "cell_type": "code",
   "execution_count": null,
   "id": "168df9e2-7ddc-4217-b39a-f6720e73c44a",
   "metadata": {
    "tags": []
   },
   "outputs": [],
   "source": [
    "plt.figure(figsize = (10,3))\n",
    "plt.plot(cnwv,mflat,color = 'blue',label = 'Cryo')\n",
    "#plt.plot(cnwv,np.interp(cnwv,diwv[::-1],disp[::-1]),color = 'green',label = 'Solar Lines')\n",
    "#plt.plot(cnwv,modS,color = 'black',label = ' Modeled Telluric and Solar ')\n",
    "#plt.plot(cnwv,(mflat-modS)*modSM,lw = 0.5)\n",
    "#plt.plot(cnwv,(mflat-modS))\n",
    "#plt.plot(wv,sfts) \n",
    "#sfts = np.interp(wv,ftswv[wwv],ftscor[wwv])\n",
    "sfts = np.interp(wv,ftswv[wwv],ftsatm[wwv])\n",
    "plt.plot(wv,sfts) \n",
    "\n",
    "plt.legend(loc = 'upper right')\n",
    "plt.ylim(-0.2,1.5)"
   ]
  },
  {
   "cell_type": "code",
   "execution_count": null,
   "id": "aa0f0e5a-2484-4942-bc4c-968dcfcdf607",
   "metadata": {
    "tags": []
   },
   "outputs": [],
   "source": [
    "plt.figure(figsize = (10,3))\n",
    "plt.plot(cnwv,mflat,color = 'blue')\n",
    "#plt.plot(cnwv,np.interp(cnwv,diwv[::-1],disp[::-1]))\n",
    "plt.plot(cnwv,modS,color = 'black')\n",
    "#plt.plot(cnwv,(mflat-modS)*modSM,lw = 0.5)\n",
    "#plt.plot(cnwv,(mflat-modS))\n",
    "plt.ylim(-0.2,1.5)"
   ]
  },
  {
   "cell_type": "code",
   "execution_count": null,
   "id": "0dc7f7ae-a8b9-4d1d-ba32-f7923d10e0aa",
   "metadata": {
    "tags": []
   },
   "outputs": [],
   "source": [
    "from astropy.io import fits"
   ]
  },
  {
   "cell_type": "code",
   "execution_count": null,
   "id": "39b17c92-aa10-4b70-aefc-fca59b843eef",
   "metadata": {},
   "outputs": [],
   "source": [
    "dwv = np.arange(750901) * 0.01999596 +  2990.015161    "
   ]
  },
  {
   "cell_type": "code",
   "execution_count": null,
   "id": "c7c6d104-3e88-4e56-ba63-e4c3c678fe5c",
   "metadata": {
    "tags": []
   },
   "outputs": [],
   "source": [
    "dhdr = fits.getheader('5750_45_p00p00.ms.fits',ext=0)\n",
    "dhdr"
   ]
  },
  {
   "cell_type": "code",
   "execution_count": null,
   "id": "47d9c4df-d126-41f4-b017-1b3f60a20d06",
   "metadata": {
    "tags": []
   },
   "outputs": [],
   "source": [
    "dwv = np.arange(750901) * 0.01999596 +  2990.015161    \n",
    "ds = fits.getdata('5750_45_p00p00.ms.fits',ext=0)\n",
    "ds.shape"
   ]
  },
  {
   "cell_type": "code",
   "execution_count": null,
   "id": "19ea0fe0-9f5b-4c9a-9a32-60304e4cb590",
   "metadata": {
    "tags": []
   },
   "outputs": [],
   "source": [
    "sdat = np.loadtxt('/home/tschad/Spectre_MPS_ATLAS_Vald3_LATMOS_Meftah_V1.txt',skiprows = 16)\n",
    "plt.figure()\n",
    "plt.plot(vac2air(sdat[:,0]*10)/10.,sdat[:,1]/5100,color = 'black')\n",
    "plt.xlim(1425,1435)"
   ]
  },
  {
   "cell_type": "code",
   "execution_count": null,
   "id": "b3ed6c73-10a4-4749-9949-d916c0289172",
   "metadata": {
    "tags": []
   },
   "outputs": [],
   "source": [
    "sdat1 = np.loadtxt('/home/tschad/Spectre_MPS_ATLAS_Kurucz_center_LATMOS_Meftah_V1.txt',skiprows=16)"
   ]
  },
  {
   "cell_type": "code",
   "execution_count": null,
   "id": "ec6ac5b3-4a11-4ffb-ba49-228b77ef34c4",
   "metadata": {
    "tags": []
   },
   "outputs": [],
   "source": [
    "sdat = np.loadtxt('/home/tschad/Spectre_MPS_ATLAS_Vald3_center_LATMOS_Meftah_V1.txt',skiprows=16)"
   ]
  },
  {
   "cell_type": "code",
   "execution_count": null,
   "id": "eb7a8d29-f9bb-43f1-b7d2-98de13de82ec",
   "metadata": {
    "tags": []
   },
   "outputs": [],
   "source": [
    "plt.figure()\n",
    "sfts = np.interp(wv,ftswv[wwv],ftscor[wwv])\n",
    "#sfts = sfts / np.max(sfts)\n",
    "plt.plot(wv,sfts) \n",
    "plt.plot(wv,np.interp(wv,diwv[::-1],disp[::-1]))\n",
    "#plt.plot(fwv[(fwv>1426)*(fwv<1434)],fsp[(fwv>1426)*(fwv<1434)] /fsp[(fwv>1426)*(fwv<1434)].max() )\n",
    "#plt.plot(dwv/10.,ds[0,:])\n",
    "plt.plot(vac2air(sdat[:,0]*10)/10.,sdat[:,1]/5100,color = 'black')\n",
    "plt.plot(vac2air(sdat1[:,0]*10)/10.,sdat1[:,1]/5100)\n",
    "\n",
    "plt.xlim(wv.min(),wv.max())\n",
    "plt.ylim(0,2)"
   ]
  },
  {
   "cell_type": "code",
   "execution_count": null,
   "id": "80f57487-81df-4887-8e88-0cd3bce80549",
   "metadata": {
    "tags": []
   },
   "outputs": [],
   "source": []
  },
  {
   "cell_type": "code",
   "execution_count": null,
   "id": "05cb1d10-7c0c-40ef-bc17-7c70a7eb7dde",
   "metadata": {},
   "outputs": [],
   "source": []
  },
  {
   "cell_type": "code",
   "execution_count": null,
   "id": "1b10dc23-7cee-4963-bdf3-c49eddcf143a",
   "metadata": {},
   "outputs": [],
   "source": [
    "1430.078-wvsh,1430.078+wvsh"
   ]
  },
  {
   "cell_type": "code",
   "execution_count": null,
   "id": "f68f487a-2ea6-4245-92e3-674073f6adcb",
   "metadata": {
    "tags": []
   },
   "outputs": [],
   "source": [
    "vac2air(np.array([1e7/6990.5952*10.]))"
   ]
  },
  {
   "cell_type": "markdown",
   "id": "cc5a771b-460b-49b0-afc4-c5ba22501d0c",
   "metadata": {},
   "source": [
    "## Sensitivity to wator vapor changes."
   ]
  },
  {
   "cell_type": "code",
   "execution_count": null,
   "id": "78e388cb-4210-41a0-9118-c31a745b2901",
   "metadata": {
    "tags": []
   },
   "outputs": [],
   "source": [
    "atm_midLatWinter = atmRead('./py4cats/data/atmos/50/midlatitudeWinter.xy')\n",
    "# V = rho * h * Na / M \n",
    "rho = 0.9998  # g/cm**3\n",
    "Na = 6.022e23 # molec / mole \n",
    "M = 18.01528 # g / mole \n",
    "V = vcd(atm_midLatWinter,'H2O',zMin = 0.0)\n",
    "h = V /rho/Na * M * 10  ## millimeters\n",
    "print(h,' millimeters PWV [midLatWinter]')\n",
    "atm_midLatWinter['H2O'] = atm_midLatWinter['H2O'] * 2\n",
    "V = vcd(atm_midLatWinter,'H2O',zMin = 0.0)\n",
    "h = V /rho/Na * M * 10  ## millimeters\n",
    "print(h,' millimeters PWV [midLatWinter]')"
   ]
  },
  {
   "cell_type": "code",
   "execution_count": null,
   "id": "ef203dac-01f8-4707-a747-c1150f168072",
   "metadata": {
    "tags": []
   },
   "outputs": [],
   "source": [
    "5e21/rho/Na*M*10.  ## "
   ]
  },
  {
   "cell_type": "code",
   "execution_count": null,
   "id": "2018027b-9881-46a5-b6f7-f3327619db89",
   "metadata": {
    "tags": []
   },
   "outputs": [],
   "source": [
    "np.cos(np.deg2rad(50.))/np.cos(np.deg2rad(40.)),(1-0.84)*9."
   ]
  },
  {
   "cell_type": "code",
   "execution_count": null,
   "id": "8ce514f7-8b58-4a76-8fab-d52f2e7d60a8",
   "metadata": {
    "scrolled": true,
    "tags": []
   },
   "outputs": [],
   "source": [
    "absCoList = xs2ac(atm_midLatWinter, xssDict)    ## absorption coefficients \n",
    "dodList = ac2dod(absCoList)\n",
    "codList_all_addedH20 = dod2cod(dodList,True)  ## cummulative od "
   ]
  },
  {
   "cell_type": "code",
   "execution_count": null,
   "id": "219f4efe-aae4-4db1-93d9-b135353b1e93",
   "metadata": {
    "tags": []
   },
   "outputs": [],
   "source": [
    "#ax[n].set_ylim(-0.05,1.2)\n",
    "n = 0\n",
    "wv = vac2air(1e7/codList_all[0].grid()*10.)/10.\n",
    "plt.figure()\n",
    "plt.plot(wv,np.exp(-codList_all[3]),'b',label = '1 airmass',lw = 0.85)\n",
    "plt.plot(wv,np.exp(-codList_all_addedH20[3]),'k',lw = 0.85,linestyle = 'dashed',label = '4 airmass')\n",
    "\n",
    "plt.plot(wv,np.exp(-codList_all_addedH20[3])/np.exp(-codList_all[3]))\n",
    "plt.ylim(0,1.2)"
   ]
  },
  {
   "cell_type": "code",
   "execution_count": null,
   "id": "87b59de7-b289-406b-845d-cb3dbc7f21a7",
   "metadata": {
    "tags": []
   },
   "outputs": [],
   "source": [
    "plt.figure()\n",
    "plt.plot(codList_all[3]/codList_all_addedH20[3])\n",
    "plt.plot(codList_all[3]/codList_all_airmass[3])"
   ]
  },
  {
   "cell_type": "code",
   "execution_count": null,
   "id": "1f297554-c683-4986-a132-c6507fb46480",
   "metadata": {
    "tags": []
   },
   "outputs": [],
   "source": []
  },
  {
   "cell_type": "code",
   "execution_count": null,
   "id": "0a30e4d0-16b9-459f-9478-0ae3c1d08985",
   "metadata": {},
   "outputs": [],
   "source": [
    "###10/80. * 200.*237/60./60.  hour to fit everything? "
   ]
  },
  {
   "cell_type": "code",
   "execution_count": null,
   "id": "6ee49e09-a6c1-42dd-8387-0ac70b6b6c9b",
   "metadata": {},
   "outputs": [],
   "source": []
  }
 ],
 "metadata": {
  "kernelspec": {
   "display_name": "dkist_telluric_atlas",
   "language": "python",
   "name": "dkist_telluric_atlas"
  },
  "language_info": {
   "codemirror_mode": {
    "name": "ipython",
    "version": 3
   },
   "file_extension": ".py",
   "mimetype": "text/x-python",
   "name": "python",
   "nbconvert_exporter": "python",
   "pygments_lexer": "ipython3",
   "version": "3.12.2"
  },
  "toc-autonumbering": true
 },
 "nbformat": 4,
 "nbformat_minor": 5
}
